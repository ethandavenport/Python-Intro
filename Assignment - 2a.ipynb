{
 "cells": [
  {
   "cell_type": "markdown",
   "metadata": {},
   "source": [
    "# <p style=\"text-align: center;\">Assignment 2</p>\n",
    "## <p style=\"text-align: center;\">Total points: 100</p>\n"
   ]
  },
  {
   "cell_type": "code",
   "execution_count": 12,
   "metadata": {},
   "outputs": [],
   "source": [
    "# RUN ME if you'd like to be able to output more than one variable value without using a print statement.\n",
    "from IPython.core.interactiveshell import InteractiveShell\n",
    "InteractiveShell.ast_node_interactivity = \"all\""
   ]
  },
  {
   "cell_type": "markdown",
   "metadata": {},
   "source": [
    "**Question 1**    10pts  \n",
    "\n",
    " Having in mind the table below write an example for each operator in a different cell that evaluates to True when you execute it.\n"
   ]
  },
  {
   "cell_type": "markdown",
   "metadata": {},
   "source": [
    "\n",
    "\n",
    "<table class=\"table table-bordered\">\n",
    "<tr>\n",
    "<th style=\"width:10%\">Operator</th><th style=\"width:45%\">Description</th><th>Example</th>\n",
    "</tr>\n",
    "<tr>\n",
    "<td>==</td>\n",
    "<td>If the values of two operands are equal, then the condition becomes true.</td>\n",
    "<td> (a == b) is not true.</td>\n",
    "</tr>\n",
    "<tr>\n",
    "<td>!=</td>\n",
    "<td>If values of two operands are not equal, then condition becomes true.</td>\n",
    "<td> (a != b) is true.</td>\n",
    "</tr>\n",
    "<tr>\n",
    "<td>&gt;</td>\n",
    "<td>If the value of left operand is greater than the value of right operand, then condition becomes true.</td>\n",
    "<td> (a &gt; b) is not true.</td>\n",
    "</tr>\n",
    "<tr>\n",
    "<td>&lt;</td>\n",
    "<td>If the value of left operand is less than the value of right operand, then condition becomes true.</td>\n",
    "<td> (a &lt; b) is true.</td>\n",
    "</tr>\n",
    "<tr>\n",
    "<td>&gt;=</td>\n",
    "<td>If the value of left operand is greater than or equal to the value of right operand, then condition becomes true.</td>\n",
    "<td> (a &gt;= b) is not true. </td>\n",
    "</tr>\n",
    "<tr>\n",
    "<td>&lt;=</td>\n",
    "<td>If the value of left operand is less than or equal to the value of right operand, then condition becomes true.</td>\n",
    "<td> (a &lt;= b) is true. </td>\n",
    "</tr>\n",
    "</table>"
   ]
  },
  {
   "cell_type": "code",
   "execution_count": 2,
   "metadata": {},
   "outputs": [
    {
     "data": {
      "text/plain": [
       "True"
      ]
     },
     "execution_count": 2,
     "metadata": {},
     "output_type": "execute_result"
    }
   ],
   "source": [
    "type('Spaghetti') == type('Meatballs')"
   ]
  },
  {
   "cell_type": "code",
   "execution_count": 3,
   "metadata": {},
   "outputs": [
    {
     "data": {
      "text/plain": [
       "True"
      ]
     },
     "execution_count": 3,
     "metadata": {},
     "output_type": "execute_result"
    }
   ],
   "source": [
    "type('Vectors') != type(725)"
   ]
  },
  {
   "cell_type": "code",
   "execution_count": 4,
   "metadata": {},
   "outputs": [
    {
     "data": {
      "text/plain": [
       "True"
      ]
     },
     "execution_count": 4,
     "metadata": {},
     "output_type": "execute_result"
    }
   ],
   "source": [
    "72 > 7*10"
   ]
  },
  {
   "cell_type": "code",
   "execution_count": 5,
   "metadata": {},
   "outputs": [
    {
     "data": {
      "text/plain": [
       "True"
      ]
     },
     "execution_count": 5,
     "metadata": {},
     "output_type": "execute_result"
    }
   ],
   "source": [
    "42/17 < 4"
   ]
  },
  {
   "cell_type": "code",
   "execution_count": 6,
   "metadata": {},
   "outputs": [
    {
     "data": {
      "text/plain": [
       "True"
      ]
     },
     "execution_count": 6,
     "metadata": {},
     "output_type": "execute_result"
    }
   ],
   "source": [
    "957 >= 29*33"
   ]
  },
  {
   "cell_type": "code",
   "execution_count": 7,
   "metadata": {},
   "outputs": [
    {
     "data": {
      "text/plain": [
       "True"
      ]
     },
     "execution_count": 7,
     "metadata": {},
     "output_type": "execute_result"
    }
   ],
   "source": [
    "957 <= 29*33"
   ]
  },
  {
   "cell_type": "markdown",
   "metadata": {},
   "source": [
    "**Question 2**    5pts  \n",
    "\n",
    "Use range( ) to print all numbers from 3 to 13.\n",
    "\n",
    "\n"
   ]
  },
  {
   "cell_type": "code",
   "execution_count": 8,
   "metadata": {},
   "outputs": [
    {
     "data": {
      "text/plain": [
       "[3, 4, 5, 6, 7, 8, 9, 10, 11, 12, 13]"
      ]
     },
     "execution_count": 8,
     "metadata": {},
     "output_type": "execute_result"
    }
   ],
   "source": [
    "list(range(3,14))"
   ]
  },
  {
   "cell_type": "markdown",
   "metadata": {},
   "source": [
    "**Question 3**  10pts\n",
    "\n",
    "Write a program that will create a list of all numbers between 1 and 50 that are divisible by 7.  \n",
    "Print the list at the end.\n",
    "\n",
    "\n",
    "\n"
   ]
  },
  {
   "cell_type": "code",
   "execution_count": 1,
   "metadata": {},
   "outputs": [
    {
     "data": {
      "text/plain": [
       "[7, 14, 21, 28, 35, 42, 49]"
      ]
     },
     "execution_count": 1,
     "metadata": {},
     "output_type": "execute_result"
    }
   ],
   "source": [
    "div7 = list(range(7,50,7))\n",
    "div7"
   ]
  },
  {
   "cell_type": "markdown",
   "metadata": {},
   "source": [
    "**Question 4** 5pts  \n",
    "\n",
    "Print out only the odd numbers of the following list."
   ]
  },
  {
   "cell_type": "code",
   "execution_count": 10,
   "metadata": {},
   "outputs": [
    {
     "data": {
      "text/plain": [
       "[1, 3, 5, 7, 9]"
      ]
     },
     "execution_count": 10,
     "metadata": {},
     "output_type": "execute_result"
    }
   ],
   "source": [
    "mylist = [1,2,3,4,5,6,7,8,9,10]\n",
    "mylist[::2]\n"
   ]
  },
  {
   "cell_type": "markdown",
   "metadata": {},
   "source": [
    "**Question 5a**  10pts  \n",
    "\n",
    "Write a program that checks if x is a perfect square.   \n",
    "If yes, print '(insert x here) is a perfect square'  \n",
    "If no, print '(insert x here) is not a perfect square'  \n",
    "  \n",
    "Hint:If a number is a perfect square, it's square root will be an integer. For example $\\sqrt25 = 5$, while $\\sqrt20 = 4.47$  \n",
    "\n",
    "Observe that: float($\\sqrt25$) = int($\\sqrt25$)= $5$ while  \n",
    "              float($\\sqrt20$) = $4.47$ is not the same as int($\\sqrt20$) = $4$  \n",
    "\n",
    "So, a logical check that you could use in your program is to check if the float of the square root of x is the same as the integer of the square root of x.\n",
    "\n",
    "\n",
    "Attention : You can use either ** for calculating the square root or if you decide to use the sqrt function you need to include the following piece of code in the beginning of your cell:  \n",
    "\n",
    "from math import *"
   ]
  },
  {
   "cell_type": "code",
   "execution_count": 2,
   "metadata": {},
   "outputs": [
    {
     "name": "stdout",
     "output_type": "stream",
     "text": [
      "Please enter a number:225\n",
      "225 is a perfect square\n"
     ]
    }
   ],
   "source": [
    "x = input('Please enter a number:')\n",
    "sqrt = (int(x))**(1/2)\n",
    "\n",
    "if float(sqrt) == int(sqrt):\n",
    "    print(x, \"is a perfect square\")\n",
    "else:\n",
    "    print(x, \"is not a perfect square\")"
   ]
  },
  {
   "cell_type": "code",
   "execution_count": null,
   "metadata": {},
   "outputs": [],
   "source": [
    "#alternate solution for finding square root:\n",
    "sqrt = math.sqrt(x)"
   ]
  },
  {
   "cell_type": "markdown",
   "metadata": {},
   "source": [
    "**Question 5b**  5pts\n",
    "\n",
    "Building on the program you wrote before, write a similar program that takes a given list of numbers (mylist) and print's out only the ones that are perfect squares.\n",
    "\n",
    "For example for the list mylist = [2,4,6,9,12,23,25] you should get:\n",
    "\n",
    "4\n",
    "\n",
    "9\n",
    "\n",
    "25"
   ]
  },
  {
   "cell_type": "code",
   "execution_count": 19,
   "metadata": {
    "scrolled": true
   },
   "outputs": [
    {
     "name": "stdout",
     "output_type": "stream",
     "text": [
      "4\n",
      "9\n",
      "25\n"
     ]
    }
   ],
   "source": [
    "mylist = [2,4,6,9,12,23,25]\n",
    "\n",
    "for num in mylist:\n",
    "    sqrt = (int(num))**(1/2)\n",
    "    if float(sqrt) == int(sqrt):\n",
    "        print(num)"
   ]
  },
  {
   "cell_type": "markdown",
   "metadata": {},
   "source": [
    "**Question 6** 15pts\n",
    "\n",
    "Write a program that does the following:  \n",
    "\n",
    "1) Asks the user to input their age  \n",
    "2) In case the user is older or equal than 21, they get back a message saying 'At this age you can drive,vote, and drink'.  \n",
    "3) In case the user is olderor equal than 18 but less than 21, they get back a message saying 'At this age you can drive and vote, but not drink'.  \n",
    "4) In case the user is olderor equal than 16 but less than 18, they get back a message saying 'At least you can drive now!'  \n",
    "5) In case that the user is younger than 16, they get back a message saying 'In (insert here a number) years you'll be able to drive\".  "
   ]
  },
  {
   "cell_type": "code",
   "execution_count": 3,
   "metadata": {},
   "outputs": [
    {
     "name": "stdout",
     "output_type": "stream",
     "text": [
      "Please input your age: 8\n",
      "In 8 years, you'll be able to drive.\n"
     ]
    }
   ],
   "source": [
    "age = input(\"Please input your age: \")\n",
    "future_years = 16 - int(age)\n",
    "\n",
    "if int(age) >= 21:\n",
    "    print('At this age you can drive, vote, and drink')\n",
    "elif int(age) >= 18:\n",
    "    print('At this age you can drive and vote, but not drink')\n",
    "elif int(age) >= 16:\n",
    "    print(\"At least you can drive now!\")\n",
    "else:\n",
    "    print(\"In\", future_years, \"years, you'll be able to drive.\")"
   ]
  },
  {
   "cell_type": "markdown",
   "metadata": {},
   "source": [
    "**Question 7** 5pts\n",
    "\n",
    "Count the number of $l$'s in your full name (Create a variable called name and set it equal to a string that contains your first, middle and last name).\n"
   ]
  },
  {
   "cell_type": "code",
   "execution_count": 4,
   "metadata": {},
   "outputs": [
    {
     "data": {
      "text/plain": [
       "0"
      ]
     },
     "execution_count": 4,
     "metadata": {},
     "output_type": "execute_result"
    }
   ],
   "source": [
    "name = \"Ethan Andrew Davenport\"\n",
    "count = 0\n",
    "\n",
    "for char in name.upper():\n",
    "    if char == \"L\":\n",
    "        count+=1\n",
    "count"
   ]
  },
  {
   "cell_type": "markdown",
   "metadata": {},
   "source": [
    "**Question 8** 10pts\n",
    "\n",
    "word = 'Mozzarella'   \n",
    "\n",
    "Write a program that with each iteration removes the last word and prints the outcome.  \n",
    "You should be able to get this:\n",
    "\n",
    "Mozzarella  \n",
    "Mozzarell  \n",
    "Mozzarel  \n",
    "Mozzare  \n",
    "Mozzar  \n",
    "Mozza  \n",
    "Mozz  \n",
    "Moz  \n",
    "Mo  \n",
    "M  \n"
   ]
  },
  {
   "cell_type": "code",
   "execution_count": 10,
   "metadata": {},
   "outputs": [
    {
     "name": "stdout",
     "output_type": "stream",
     "text": [
      "Mozzarella\n",
      "Mozzarell\n",
      "Mozzarel\n",
      "Mozzare\n",
      "Mozzar\n",
      "Mozza\n",
      "Mozz\n",
      "Moz\n",
      "Mo\n",
      "M\n"
     ]
    }
   ],
   "source": [
    "word = 'Mozzarella'\n",
    "\n",
    "while word != '':\n",
    "    print(word)\n",
    "    word = word[:len(word)-1]"
   ]
  },
  {
   "cell_type": "markdown",
   "metadata": {},
   "source": [
    "**Question 9**    25pts  \n",
    "\n",
    "Write a program that does the following: \n",
    "1) Prints : \"Welcome! Please enter a color when prompted, and you will see it printed. When you would like to stop, instead of a color enter STOP.\"  \n",
    "\n",
    "2) Prompts the user to write a color until the user enters STOP.   \n",
    "3) Print the phrase: 'You picked (insert the color that the user picked in uppercase letters)!'  \n",
    "4) When the user is done and enters STOP, print: \"Bye!The colors you entered were: [color1 in upoercase, collor2 in uppercase,....,last color (before STOP) in uppercase] \"  \n",
    "5) Assume that the user will only enter valid colors and STOP as input. If they enter accidentaly 'applepie', then the program will treat it a color and will print: You picked APPPLEPIE!, as well as include it in the list of colors at the end.  \n",
    "6) Remember that the final user input STOP will not appear in the list of colors in the end.\n",
    "\n",
    "### Example:   \n",
    "\n",
    "Computer: Welcome! Please enter a color when prompted, and you will see it printed. When you would like to stop, instead of a color enter STOP.    \n",
    "\n",
    "Computer: Please enter a color of your choice:\n",
    "\n",
    "User: red  \n",
    "\n",
    "Computer: You picked RED!  \n",
    "\n",
    "Computer: Please enter a color of your choice:\n",
    "\n",
    "User: Green  \n",
    "\n",
    "Computer: You picked GREEN!  \n",
    "\n",
    "Computer: Please enter a color of your choice:\n",
    "\n",
    "User: STOP  \n",
    "\n",
    "Computer: Bye! The colors you entered were: ['RED','GREEN']  \n",
    "\n",
    "\n",
    "\n",
    "\n",
    "\n",
    "\n",
    "\n",
    "\n",
    "\n"
   ]
  },
  {
   "cell_type": "code",
   "execution_count": 6,
   "metadata": {},
   "outputs": [
    {
     "name": "stdout",
     "output_type": "stream",
     "text": [
      "Welcome! Please enter a color when prompted, and you will see it printed. \n",
      "When you would like to stop, instead of a color enter STOP.\n",
      "Please enter a color of your choice: Magenta\n",
      "You picked MAGENTA\n",
      "Please enter a color of your choice: Red\n",
      "You picked RED\n",
      "Please enter a color of your choice: STOP\n",
      "Bye! The colors you entered were: ['MAGENTA', 'RED']\n"
     ]
    }
   ],
   "source": [
    "print(\"Welcome! Please enter a color when prompted, and you will see it printed. \\n\\\n",
    "When you would like to stop, instead of a color enter STOP.\")\n",
    "color_list = []\n",
    "color = input(\"Please enter a color of your choice: \")\n",
    "\n",
    "while color != \"STOP\":\n",
    "    color_list += [color.upper()]\n",
    "    if color != \"STOP\":\n",
    "        print(\"You picked\", color.upper())\n",
    "        color = input(\"Please enter a color of your choice: \")\n",
    "\n",
    "print(\"Bye! The colors you entered were:\", color_list)"
   ]
  },
  {
   "cell_type": "code",
   "execution_count": 1,
   "metadata": {},
   "outputs": [
    {
     "name": "stdout",
     "output_type": "stream",
     "text": [
      "Welcome! Please enter a color when prompted, and you will see it printed. \n",
      "When you would like to stop, instead of a color enter STOP.\n",
      "Please enter a color of your choice: Magenta\n",
      "You picked MAGENTA\n",
      "Please enter a color of your choice: Red\n",
      "You picked RED\n",
      "Please enter a color of your choice: STOP\n",
      "Bye! The colors you entered were: ['MAGENTA', 'RED']\n"
     ]
    }
   ],
   "source": [
    "print(\"Welcome! Please enter a color when prompted, and you will see it printed. \\n\\\n",
    "When you would like to stop, instead of a color enter STOP.\")\n",
    "color_list = []\n",
    "color = input(\"Please enter a color of your choice: \")\n",
    "\n",
    "while color != \"STOP\":\n",
    "    color_list.append(color.upper())\n",
    "    print(\"You picked\", color.upper())\n",
    "    color = input(\"Please enter a color of your choice: \")\n",
    "\n",
    "print(\"Bye! The colors you entered were:\", color_list)"
   ]
  }
 ],
 "metadata": {
  "kernelspec": {
   "display_name": "Python 3 (ipykernel)",
   "language": "python",
   "name": "python3"
  },
  "language_info": {
   "codemirror_mode": {
    "name": "ipython",
    "version": 3
   },
   "file_extension": ".py",
   "mimetype": "text/x-python",
   "name": "python",
   "nbconvert_exporter": "python",
   "pygments_lexer": "ipython3",
   "version": "3.9.13"
  }
 },
 "nbformat": 4,
 "nbformat_minor": 4
}
