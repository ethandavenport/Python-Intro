{
 "cells": [
  {
   "cell_type": "markdown",
   "metadata": {},
   "source": [
    "# <p style=\"text-align: center;\">Assignment 2b</p>\n",
    "## <p style=\"text-align: center;\">Total points: 100</p>\n"
   ]
  },
  {
   "cell_type": "code",
   "execution_count": 40,
   "metadata": {},
   "outputs": [],
   "source": [
    "# RUN ME if you'd like to be able to output more than one variable value without using a print statement.\n",
    "from IPython.core.interactiveshell import InteractiveShell\n",
    "InteractiveShell.ast_node_interactivity = \"all\""
   ]
  },
  {
   "cell_type": "markdown",
   "metadata": {},
   "source": [
    "**Question 1**    3pts  \n",
    "\n",
    "Split the string s and count how many times the word ”lamb” appears in the string.\n",
    "Then print the following: 'The word lamb appears x times in the sentence', where x is the number of times you counted the word lamb."
   ]
  },
  {
   "cell_type": "code",
   "execution_count": 3,
   "metadata": {},
   "outputs": [
    {
     "name": "stdout",
     "output_type": "stream",
     "text": [
      "The word lamb appears 3 times in the sentence\n"
     ]
    }
   ],
   "source": [
    "s = 'Mary had a little lamb little lamb little lamb'\n",
    "\n",
    "# write your code here\n",
    "s_list = s.split('lamb')\n",
    "count = len(s_list)-1\n",
    "print('The word lamb appears', count, 'times in the sentence')\n"
   ]
  },
  {
   "cell_type": "markdown",
   "metadata": {},
   "source": [
    "**Question 2**    5pts (2.5 & 2.5)   \n",
    "\n",
    "Grab the value 15 from the following tuple. "
   ]
  },
  {
   "cell_type": "code",
   "execution_count": 5,
   "metadata": {},
   "outputs": [],
   "source": [
    "t = (\"Banana\", [10, 20, 30], (5, 15, 25))"
   ]
  },
  {
   "cell_type": "code",
   "execution_count": 6,
   "metadata": {},
   "outputs": [
    {
     "data": {
      "text/plain": [
       "15"
      ]
     },
     "execution_count": 6,
     "metadata": {},
     "output_type": "execute_result"
    }
   ],
   "source": [
    "#write your code here\n",
    "t[2][1]\n"
   ]
  },
  {
   "cell_type": "markdown",
   "metadata": {},
   "source": [
    "Replace the element 33 from the following tuple with 314.  \n"
   ]
  },
  {
   "cell_type": "code",
   "execution_count": 8,
   "metadata": {},
   "outputs": [
    {
     "data": {
      "text/plain": [
       "(22, [314, 11], 66, 55)"
      ]
     },
     "execution_count": 8,
     "metadata": {},
     "output_type": "execute_result"
    }
   ],
   "source": [
    "a_tuple = (22, [33, 11], 66, 55)\n",
    "\n",
    "#write your code here\n",
    "a_tuple[1][0] = 314\n",
    "a_tuple"
   ]
  },
  {
   "cell_type": "markdown",
   "metadata": {},
   "source": [
    "**Question 3**    5pts (2&2&1)\n",
    "\n",
    "You are given the following list that contains three tuples with stock and stockprice:"
   ]
  },
  {
   "cell_type": "code",
   "execution_count": 2,
   "metadata": {},
   "outputs": [],
   "source": [
    "stock_prices = [('ADBE',300),('GOOG',400),('ORCL',500)]"
   ]
  },
  {
   "cell_type": "markdown",
   "metadata": {},
   "source": [
    "Write a short program that will print at once all three pairs of stock and price."
   ]
  },
  {
   "cell_type": "code",
   "execution_count": 4,
   "metadata": {},
   "outputs": [
    {
     "name": "stdout",
     "output_type": "stream",
     "text": [
      "ADBE: $300\n",
      "GOOG: $400\n",
      "ORCL: $500\n"
     ]
    }
   ],
   "source": [
    "# Write your code here\n",
    "for stock in stock_prices:\n",
    "    print(stock[0] + \": $\" + str(stock[1]))"
   ]
  },
  {
   "cell_type": "markdown",
   "metadata": {},
   "source": [
    "Write a short program that will print at once only the stock from the pairs of stock and price."
   ]
  },
  {
   "cell_type": "code",
   "execution_count": 5,
   "metadata": {},
   "outputs": [
    {
     "name": "stdout",
     "output_type": "stream",
     "text": [
      "ADBE\n",
      "GOOG\n",
      "ORCL\n"
     ]
    }
   ],
   "source": [
    "# Write your code here\n",
    "for stock in stock_prices:\n",
    "    print(stock[0])"
   ]
  },
  {
   "cell_type": "markdown",
   "metadata": {},
   "source": [
    "Write a short program that will print at once only the price from the pairs of stock and price."
   ]
  },
  {
   "cell_type": "code",
   "execution_count": 6,
   "metadata": {},
   "outputs": [
    {
     "name": "stdout",
     "output_type": "stream",
     "text": [
      "300\n",
      "400\n",
      "500\n"
     ]
    }
   ],
   "source": [
    "# Write your code here\n",
    "for stock in stock_prices:\n",
    "    print(stock[1])"
   ]
  },
  {
   "cell_type": "markdown",
   "metadata": {},
   "source": [
    "**Question 4**    20pts  \n",
    "\n",
    "You are given a list containing three tuples that represent pairs of employee name and hours worked by the employee.  \n",
    "Write a program that will take as input the list hours_worked and will print out the name of the best employee. For example your program's output should be Diana.  \n",
    "\n",
    "PS: If I change the tuples in hours_worked, your code should always display the name of the employee with the most hours of work. "
   ]
  },
  {
   "cell_type": "code",
   "execution_count": 2,
   "metadata": {},
   "outputs": [
    {
     "name": "stdout",
     "output_type": "stream",
     "text": [
      "Diana\n"
     ]
    }
   ],
   "source": [
    "hours_worked = [('Anitesh',300),('Lou',500),('Diana',900)]\n",
    "# Write your code here\n",
    "\n",
    "hours_list = []\n",
    "for name,hours in hours_worked:\n",
    "    hours_list.append(hours)\n",
    "\n",
    "most_hours = max(hours_list)\n",
    "\n",
    "for name,hours in hours_worked:\n",
    "    if hours == most_hours:\n",
    "        print(employee[0])"
   ]
  },
  {
   "cell_type": "markdown",
   "metadata": {},
   "source": [
    "**Question 5**  7pts\n",
    "\n",
    "1) Ask the user to enter a word in English.  \n",
    "2) Convert that string into a list of characters for example if user input is s = 'international' then char_list = ['i', 'n', 't', 'e', 'r', 'n', 'a', 't', 'i', 'o', 'n', 'a', 'l']. You can use a Python function to do this conversion in one step. If you don't remember which function does this then you may code it yourselves.  \n",
    "3) Create a dictionary that has for keys the (unique) letters of the char_list and each value is equal to the frequency of that letter. For example: if s = 'international' and char_list = ['i', 'n', 't', 'e', 'r', 'n', 'a', 't', 'i', 'o', 'n', 'a', 'l'] then the frequency dictionary would be:  D = {'i': 2, 'n': 3, 't': 2, 'e': 1, 'r': 1, 'a': 2, 'o': 1, 'l': 1}  \n",
    "4) Print the frequency dictionary back to user."
   ]
  },
  {
   "cell_type": "code",
   "execution_count": 6,
   "metadata": {},
   "outputs": [
    {
     "name": "stdout",
     "output_type": "stream",
     "text": [
      "Please enter a word in English: international\n"
     ]
    },
    {
     "data": {
      "text/plain": [
       "{'i': 2, 'n': 3, 't': 2, 'e': 1, 'r': 1, 'a': 2, 'o': 1, 'l': 1}"
      ]
     },
     "execution_count": 6,
     "metadata": {},
     "output_type": "execute_result"
    }
   ],
   "source": [
    "# write your code here\n",
    "word = input(\"Please enter a word in English: \")\n",
    "char_list = list(word)\n",
    "\n",
    "D = {}\n",
    "for char in char_list:\n",
    "    if char not in D:\n",
    "        D[char] = 1\n",
    "    else:\n",
    "        D[char] += 1\n",
    "D"
   ]
  },
  {
   "cell_type": "markdown",
   "metadata": {},
   "source": [
    "**Question 6**  20pts\n",
    "\n",
    "Modify the dictionary of the previous question such that the key - values that appear first are of descending order. \n",
    "For example: If we had D = {'d':1,'o':2,'r':1,} before, now we would like to have either D = {'o':2,'d':1,'r':1} or \n",
    "D = {'o':2,'r':1',d':1}\n",
    "( We care about the values only, you don't need to follow a certain rule for keys that have the same value).\n",
    "\n",
    "You do not need to use user's input again. Use a dictionary that is called D_frequency and is equal to your outputed dictionary of the previous question. So if your user input in Question 1 was 'international' and your output was {'i': 2, 'n': 3, 't': 2, 'e': 1, 'r': 1, 'a': 2, 'o': 1, 'l': 1}, then for the next question use D_frequency = {'i': 2, 'n': 3, 't': 2, 'e': 1, 'r': 1, 'a': 2, 'o': 1, 'l': 1}  to answer the question."
   ]
  },
  {
   "cell_type": "code",
   "execution_count": 17,
   "metadata": {},
   "outputs": [
    {
     "data": {
      "text/plain": [
       "{'n': 3, 'i': 2, 't': 2, 'a': 2, 'e': 1, 'r': 1, 'o': 1, 'l': 1}"
      ]
     },
     "execution_count": 17,
     "metadata": {},
     "output_type": "execute_result"
    }
   ],
   "source": [
    "# write your code here\n",
    "D_frequency = D\n",
    "sorted_values = sorted(D_frequency.values(), reverse = True)\n",
    "\n",
    "D_sorted = {}\n",
    "for value in sorted_values:\n",
    "    for key in D_frequency:\n",
    "        if value == D_frequency[key]:\n",
    "            D_sorted[key] = value\n",
    "D_sorted"
   ]
  },
  {
   "cell_type": "markdown",
   "metadata": {},
   "source": [
    "**Question 7**  10pts\n",
    "\n",
    "For every key in the sorted dictionary of Question 2, print its value (= frequency the letter appeared in the original string).\n",
    "The desired output should look like this:  \n",
    "\n",
    "Assuming your initial string in Question 1 was s = 'international'and you use the already value - sorted dictionary, you should be able to print:\n",
    "\n",
    "\n",
    "n has frequency 3  \n",
    "i has frequency 2  \n",
    "t has frequency 2  \n",
    "a has frequency 2  \n",
    "e has frequency 1  \n",
    "r has frequency 1  \n",
    "o has frequency 1  \n",
    "l has frequency 1  "
   ]
  },
  {
   "cell_type": "code",
   "execution_count": 18,
   "metadata": {},
   "outputs": [
    {
     "name": "stdout",
     "output_type": "stream",
     "text": [
      "n has frequency 3\n",
      "i has frequency 2\n",
      "t has frequency 2\n",
      "a has frequency 2\n",
      "e has frequency 1\n",
      "r has frequency 1\n",
      "o has frequency 1\n",
      "l has frequency 1\n"
     ]
    }
   ],
   "source": [
    "# write your code here\n",
    "for key,value in D_sorted.items():\n",
    "    print(key, \"has frequency\", value)"
   ]
  },
  {
   "cell_type": "markdown",
   "metadata": {},
   "source": [
    "**Question 8** 30 pts"
   ]
  },
  {
   "cell_type": "markdown",
   "metadata": {},
   "source": [
    "### Determining the reading level of the user"
   ]
  },
  {
   "cell_type": "markdown",
   "metadata": {},
   "source": [
    "Create a program that accepts user input and outputs the estimated reading level of the user by following the given set of rules. So you can imagine that we are trying to follow an algorithm to figure out what the reading level of a text is. One such 'algorithm/formula' is the Coleman-Liau index. The Coleman-Liau index of a text is designed to output what (U.S.) grade level is needed to understand the text. The formula is:"
   ]
  },
  {
   "cell_type": "markdown",
   "metadata": {},
   "source": [
    "**index = 0.0588 * L - 0.296 * S - 15.8**"
   ]
  },
  {
   "cell_type": "markdown",
   "metadata": {},
   "source": [
    "**Here, L is the average number of letters per 100 words in the text, and S is the average number of sentences per 100 words in the text.**\n",
    "\n",
    "\n",
    "Let’s write code that takes a text and determines its reading level.\n",
    "\n",
    "For example:  "
   ]
  },
  {
   "cell_type": "markdown",
   "metadata": {},
   "source": [
    "* Input: Congratulations! Today is your day. You're off to Great Places! You're off and away!  \n",
    "* Output: Grade 3"
   ]
  },
  {
   "cell_type": "markdown",
   "metadata": {},
   "source": [
    "The text the user inputted has 65 letters, 4 sentences, and 14 words. 65 letters per 14 words is an average of about 464.29 letters per 100 words. And 4 sentences per 14 words is an average of about 28.57 sentences per 100 words. Plugged into the Coleman-Liau formula, and rounded to the nearest whole number, we get an answer of 3: so this passage is at a third grade reading level."
   ]
  },
  {
   "cell_type": "markdown",
   "metadata": {},
   "source": [
    "* Your program must prompt the user for a string of text.\n",
    "* Your program should count the number of letters, words, and sentences in the text. You may assume that a letter is any lowercase character from a to z or any uppercase character from A to Z, any sequence of characters separated by spaces should count as a word, and that any occurrence of a period, exclamation point, or question mark indicates the end of a sentence.\n",
    "* Your program should print as output \"Grade X\" where X is the grade level computed by the Coleman-Liau formula, rounded to the nearest integer.\n",
    "* If the resulting index number is 16 or higher (equivalent to or greater than a senior undergraduate reading level), your program should output \"Grade 16+\" instead of giving the exact index number. If the index number is less than 1, your program should output \"Before Grade 1\".\n"
   ]
  },
  {
   "cell_type": "markdown",
   "metadata": {},
   "source": [
    "### Letters:  \n",
    "\n",
    "Letters can be any uppercase or lowercase alphabetic characters, but shouldn’t include any punctuation, digits, or other symbols."
   ]
  },
  {
   "cell_type": "markdown",
   "metadata": {},
   "source": [
    "### Words:   \n",
    "\n",
    "The Coleman-Liau index cares not only about the number of letters, but also the number of words in a sentence. For the purpose of this problem, we’ll consider any sequence of characters separated by a space to be a word (so a hyphenated word like \"sister-in-law\" should be considered one word, not three).  \n",
    "\n",
    "You may assume that a sentence will not start or end with a space, and you may assume that a sentence will not have multiple spaces in a row.  "
   ]
  },
  {
   "cell_type": "markdown",
   "metadata": {},
   "source": [
    "### Sentences:  \n",
    "\n",
    "The last piece of information that the Coleman-Liau formula cares about, in addition to the number of letters and words, is the number of sentences. Determining the number of sentences can be surprisingly trickly. You might first imagine that a sentence is just any sequence of characters that ends with a period, but of course sentences could end with an exclamation point or a question mark as well. But of course, not all periods necessarily mean the sentence is over. For instance, consider the sentence below.  \n"
   ]
  },
  {
   "cell_type": "code",
   "execution_count": 19,
   "metadata": {},
   "outputs": [],
   "source": [
    "text = \"Mr. and Mrs. Dursley, of number four Privet Drive, were proud to say that they were perfectly normal, thank you very much.\""
   ]
  },
  {
   "cell_type": "markdown",
   "metadata": {},
   "source": [
    "This is just a single sentence, but there are three periods! For this problem, we’ll ask you to ignore that subtlety: you should consider any sequence of characters that ends with a . or a ! or a ? to be a sentence (so for the above “sentence”, you may count that as three sentences). In practice, sentence boundary detection needs to be a little more intelligent to handle these cases, but we’ll not worry about that for now."
   ]
  },
  {
   "cell_type": "markdown",
   "metadata": {},
   "source": [
    "### Final touchups: \n",
    "\n",
    "Modify your code so that instead of outputting the number of letters, words, and sentences, it instead outputs the grade level as given by the Coleman-Liau index (e.g. \"Grade 2\" or \"Grade 8\"). Be sure to round the resulting index number to the nearest whole number!\n",
    "\n",
    "If the resulting index number is 16 or higher (equivalent to or greater than a senior undergraduate reading level), your program should output \"Grade 16+\" instead of giving the exact index number. If the index number is less than 1, your program should output \"Before Grade 1\"."
   ]
  },
  {
   "cell_type": "code",
   "execution_count": 86,
   "metadata": {},
   "outputs": [
    {
     "name": "stdout",
     "output_type": "stream",
     "text": [
      "Please enter a text and the program will try to determine the reading level of the writer. But now Iluvatar sat and hearkened, and for a great while it seemed good to him, for in the music there were no flaws. But as the theme progressed, it came into the heart of Melkor to interweave matters of his own imagining that were not in accord with the theme of Iluvatar, for he sought therein to increase the power and glory of the part assigned to himself.\n",
      "\n",
      "Grade 8\n"
     ]
    }
   ],
   "source": [
    "# write your code here\n",
    "# you may break down your code to pieces of smaller chuncks and then put everything back together\n",
    "\n",
    "text = input(\"Please enter a text and the program will try to determine the reading level of the writer. \")\n",
    "\n",
    "#words\n",
    "words_list = text.split(' ')\n",
    "num_words = len(words_list)\n",
    "\n",
    "#letters\n",
    "num_letters = 0\n",
    "for char in text:\n",
    "    if char.isalpha():\n",
    "        num_letters += 1\n",
    "L = num_letters/num_words*100\n",
    "\n",
    "#sentences\n",
    "text = text.replace('?',\".\")\n",
    "text = text.replace('!',\".\")\n",
    "sentences_list = text.split('.')\n",
    "num_sentences = len(sentences_list) - 1\n",
    "S = num_sentences/num_words*100\n",
    "\n",
    "#index\n",
    "CL_index = 0.0588 * L - 0.296 * S - 15.8\n",
    "rounded_index = round(CL_index)\n",
    "print(\"\")\n",
    "if rounded_index >= 16:\n",
    "    print(\"Grade 16+\")\n",
    "elif rounded_index < 1:\n",
    "    print(\"Before Grade 1\")\n",
    "else:\n",
    "    print(\"Grade\", rounded_index)\n"
   ]
  },
  {
   "cell_type": "markdown",
   "metadata": {},
   "source": [
    "### Test your code: \n",
    "(You can use these sample inputs and outputs to check the accuracy of your code). \n",
    "\n",
    "\n",
    "text = 'Please enter a text and the program will try to determine the reading level of the writer.'    \n",
    "  \n",
    "Grade 8\n",
    "\n",
    "text = 'Please enter a text and the program will try to determine the reading level of the writer.The World’s Most Prestigious Art Exhibition Is Over. Maybe Forever.'  \n",
    "  \n",
    "Grade 11\n",
    "\n",
    "text = 'Please enter a text and the program will try to determine the reading level of the writer.The ninth named tropical storm of the 2022 Atlantic hurricane season has formed across the central Caribbean Sea, and is forecast to turn into a hurricane before hitting Florida next week. If it does, it will be the first major hurricane to impact the state since 2018.'    \n",
    "  \n",
    "Grade 9\n",
    "\n",
    "text = 'But now Iluvatar sat and hearkened, and for a great while it seemed good to him, for in the music there were no flaws. But as the theme progressed, it came into the heart of Melkor to interweave matters of his own imagining that were not in accord with the theme of Iluvatar, for he sought therein to increase the power and glory of the part assigned to himself.'  \n",
    "\n",
    "Grade 8\n",
    "\n",
    "text = 'A large class of computational problems involve the determination of properties of graphs, digraphs, integers, arrays of integers, finite families of finite sets, boolean formulas and elements of other countable domains.'   \n",
    "  \n",
    "Grade 16+"
   ]
  }
 ],
 "metadata": {
  "kernelspec": {
   "display_name": "Python 3 (ipykernel)",
   "language": "python",
   "name": "python3"
  },
  "language_info": {
   "codemirror_mode": {
    "name": "ipython",
    "version": 3
   },
   "file_extension": ".py",
   "mimetype": "text/x-python",
   "name": "python",
   "nbconvert_exporter": "python",
   "pygments_lexer": "ipython3",
   "version": "3.9.13"
  }
 },
 "nbformat": 4,
 "nbformat_minor": 4
}
