{
 "cells": [
  {
   "cell_type": "markdown",
   "metadata": {},
   "source": [
    "# <p style=\"text-align: center;\">Assignment 1</p>\n",
    "## <p style=\"text-align: center;\">Total points: 100</p>"
   ]
  },
  {
   "cell_type": "code",
   "execution_count": 1,
   "metadata": {},
   "outputs": [],
   "source": [
    "# RUN ME if you'd like to be able to output more than one variable value without using a print statement.\n",
    "from IPython.core.interactiveshell import InteractiveShell\n",
    "InteractiveShell.ast_node_interactivity = \"all\""
   ]
  },
  {
   "cell_type": "markdown",
   "metadata": {},
   "source": [
    "**Question 1a**    2pts  \n",
    "\n",
    "**Print** the name of your favorite song."
   ]
  },
  {
   "cell_type": "code",
   "execution_count": 2,
   "metadata": {},
   "outputs": [
    {
     "name": "stdout",
     "output_type": "stream",
     "text": [
      "\"Everybody Wants to Rule the World\" by Tears For Fears\n"
     ]
    }
   ],
   "source": [
    "print('\"Everybody Wants to Rule the World\" by Tears For Fears')"
   ]
  },
  {
   "cell_type": "markdown",
   "metadata": {},
   "source": [
    "**Question 1b**    2pts  \n",
    "\n",
    "Check the type of the following variables by using type() :\n",
    "\n",
    "1) name = 'Tamira'    \n",
    "2) age = 26  \n",
    "3) change = 25.5  \n",
    "4) price = 'The price is $25.5'  \n"
   ]
  },
  {
   "cell_type": "code",
   "execution_count": 3,
   "metadata": {},
   "outputs": [
    {
     "data": {
      "text/plain": [
       "str"
      ]
     },
     "execution_count": 3,
     "metadata": {},
     "output_type": "execute_result"
    },
    {
     "data": {
      "text/plain": [
       "int"
      ]
     },
     "execution_count": 3,
     "metadata": {},
     "output_type": "execute_result"
    },
    {
     "data": {
      "text/plain": [
       "float"
      ]
     },
     "execution_count": 3,
     "metadata": {},
     "output_type": "execute_result"
    },
    {
     "data": {
      "text/plain": [
       "str"
      ]
     },
     "execution_count": 3,
     "metadata": {},
     "output_type": "execute_result"
    }
   ],
   "source": [
    "name = 'Tamira'\n",
    "age = 26\n",
    "change = 25.5\n",
    "price = 'The price is $25.5'\n",
    "type(name)\n",
    "type(age)\n",
    "type(change)\n",
    "type(price)"
   ]
  },
  {
   "cell_type": "markdown",
   "metadata": {},
   "source": [
    "**Question 1c**    2pts  \n",
    "\n",
    "Check using == if 123 is the same as '123'"
   ]
  },
  {
   "cell_type": "code",
   "execution_count": 4,
   "metadata": {},
   "outputs": [
    {
     "data": {
      "text/plain": [
       "False"
      ]
     },
     "execution_count": 4,
     "metadata": {},
     "output_type": "execute_result"
    }
   ],
   "source": [
    "123 == '123'"
   ]
  },
  {
   "cell_type": "markdown",
   "metadata": {},
   "source": [
    "**Question 1d**    4pts\n",
    "\n",
    "1) Create three variables and assign them the strings 'lady','bird' and 'lake' respectively.    \n",
    "2) Concatenate the first two to create the string 'ladybird'.  \n",
    "3) Use the strings above to print the phrase \"I like to take walks around ladybird lake\"."
   ]
  },
  {
   "cell_type": "code",
   "execution_count": 5,
   "metadata": {},
   "outputs": [
    {
     "name": "stdout",
     "output_type": "stream",
     "text": [
      "I like to take walks around ladybird lake\n"
     ]
    }
   ],
   "source": [
    "var1 = 'lady'\n",
    "var2 = 'bird'\n",
    "var3 = 'lake'\n",
    "concat = var1 + var2\n",
    "print(\"I like to take walks around\",concat,var3)"
   ]
  },
  {
   "cell_type": "markdown",
   "metadata": {},
   "source": [
    "**Question 2**    10pts\n",
    "\n",
    "To convert temperatures in degrees Celsius to Fahrenheit, multiply by 1.8 (or 9/5) and add 32. Create a program that asks the user to enter a temperature in Celcius and print \" (user's input) degrees in Celcius is equivalent to (insert calculation result in Farenheit) degrees Farenheit\"."
   ]
  },
  {
   "cell_type": "code",
   "execution_count": 9,
   "metadata": {},
   "outputs": [
    {
     "name": "stdout",
     "output_type": "stream",
     "text": [
      "Enter a temperature in Celsius:22\n",
      "22 degrees in Celsius is equivalent to 71.6 degrees Fahrenheit\n"
     ]
    }
   ],
   "source": [
    "celsius = input(\"Enter a temperature in Celsius:\")\n",
    "fahrenheit = 9/5*float(celsius) + 32\n",
    "print(celsius,\"degrees in Celsius is equivalent to\",fahrenheit,\"degrees Fahrenheit\")"
   ]
  },
  {
   "cell_type": "markdown",
   "metadata": {},
   "source": [
    "**Question 3a**    5pts \n",
    "\n",
    "Create the following program:\n",
    "\n",
    "1) Ask the user to enter their age   \n",
    "2) Next, print \" Your age is (insert user's age here) and in 5 years from now you will be (insert user's age + 5) years !\"\n",
    "\n",
    "For example: User input = 30 will print  'Your age is 30 and in 5 years from now you will be 35 years !'"
   ]
  },
  {
   "cell_type": "code",
   "execution_count": 11,
   "metadata": {},
   "outputs": [
    {
     "name": "stdout",
     "output_type": "stream",
     "text": [
      "Please enter your age:19\n",
      "Your age is 19 and in 5 years from now, you will be 24 years!\n"
     ]
    }
   ],
   "source": [
    "user_age = input(\"Please enter your age:\")\n",
    "future_age = int(user_age)+5\n",
    "print(\"Your age is\",user_age,\"and in 5 years from now, you will be\",future_age,\"years!\")"
   ]
  },
  {
   "cell_type": "markdown",
   "metadata": {},
   "source": [
    "**Question 3b**    5pts    \n",
    "\n",
    "Now create a similar program:\n",
    "\n",
    "1) Ask the user to enter their age   \n",
    "2) Next, print \"(insert user's age here) is a great age! I only wish I was your age.\""
   ]
  },
  {
   "cell_type": "code",
   "execution_count": 12,
   "metadata": {},
   "outputs": [
    {
     "name": "stdout",
     "output_type": "stream",
     "text": [
      "Please enter your age:19\n",
      "19 is a great age! I only wish I was your age.\n"
     ]
    }
   ],
   "source": [
    "user_age = input(\"Please enter your age:\")\n",
    "print(user_age,\"is a great age! I only wish I was your age.\")"
   ]
  },
  {
   "cell_type": "markdown",
   "metadata": {},
   "source": [
    "**Question 4a** 4pts\n",
    "\n",
    "Check if the word \"password\" contains the word \"word\" by using **in**.  \n",
    "The result is a boolean variable."
   ]
  },
  {
   "cell_type": "code",
   "execution_count": 13,
   "metadata": {},
   "outputs": [
    {
     "data": {
      "text/plain": [
       "True"
      ]
     },
     "execution_count": 13,
     "metadata": {},
     "output_type": "execute_result"
    }
   ],
   "source": [
    "\"word\" in \"password\""
   ]
  },
  {
   "cell_type": "markdown",
   "metadata": {},
   "source": [
    "**Question 4b** 2pts\n",
    "\n",
    "Create a string named x = \"swordsmanship\".  \n",
    "Next by slicing it get the words 'sword' and 'man' and assign them to variables a and b respectively."
   ]
  },
  {
   "cell_type": "code",
   "execution_count": 15,
   "metadata": {},
   "outputs": [
    {
     "data": {
      "text/plain": [
       "'sword'"
      ]
     },
     "execution_count": 15,
     "metadata": {},
     "output_type": "execute_result"
    },
    {
     "data": {
      "text/plain": [
       "'man'"
      ]
     },
     "execution_count": 15,
     "metadata": {},
     "output_type": "execute_result"
    }
   ],
   "source": [
    "x = \"swordsmanship\"\n",
    "a = x[:5]\n",
    "b = x[6:9]\n",
    "a\n",
    "b"
   ]
  },
  {
   "cell_type": "markdown",
   "metadata": {},
   "source": [
    "**Question 4c** 2pts\n",
    "\n",
    "Combine the words \"man\" and \"kind\" to create the word \"mankind\"."
   ]
  },
  {
   "cell_type": "code",
   "execution_count": 16,
   "metadata": {},
   "outputs": [
    {
     "data": {
      "text/plain": [
       "'mankind'"
      ]
     },
     "execution_count": 16,
     "metadata": {},
     "output_type": "execute_result"
    }
   ],
   "source": [
    "word1 = 'man'\n",
    "word2 = 'kind'\n",
    "compound_word = word1+word2\n",
    "compound_word"
   ]
  },
  {
   "cell_type": "markdown",
   "metadata": {},
   "source": [
    "**Question 4d** 2pts\n",
    "\n",
    "What's the length of the string 'Pneumonoultramicroscopicsilicovolcanoconiosis' ?  \n"
   ]
  },
  {
   "cell_type": "code",
   "execution_count": 17,
   "metadata": {},
   "outputs": [
    {
     "data": {
      "text/plain": [
       "45"
      ]
     },
     "execution_count": 17,
     "metadata": {},
     "output_type": "execute_result"
    }
   ],
   "source": [
    "len(\"Pneumonoultramicroscopicsilicovolcanoconiosis\")"
   ]
  },
  {
   "cell_type": "markdown",
   "metadata": {},
   "source": [
    "**Question 5**  10pts\n",
    "\n",
    "You are given the following strings:   \n",
    "s1 = 'super'  \n",
    "s2 = 'cali'  \n",
    "s3 = 'fragi'  \n",
    "s4 = 'listic'  \n",
    "s5 = 'expi'  \n",
    "s6 = 'ali'  \n",
    "s7 = 'docious'  \n",
    "\n",
    "1) Compute the lenght of each of the strings and set all the leghts to new variables $l_1,l_2,...,l_7$ ($l_1$ equals the lenght of $s_1$ etc)  \n",
    "2) Sum the individual lengths and print the total lenth.  \n",
    "3) Create a large string by concatenating $s_1$ through $s_7$ (keeping the order)  \n",
    "4) What is the lenght of the new string? (It should be the same as the sum of the individual lenghts)\n",
    "\n"
   ]
  },
  {
   "cell_type": "code",
   "execution_count": 19,
   "metadata": {},
   "outputs": [],
   "source": [
    "s1 = 'super'\n",
    "s2 = 'cali'\n",
    "s3 = 'fragi'\n",
    "s4 = 'listic'\n",
    "s5 = 'expi'\n",
    "s6 = 'ali'\n",
    "s7 = 'docious'"
   ]
  },
  {
   "cell_type": "code",
   "execution_count": 20,
   "metadata": {},
   "outputs": [],
   "source": [
    "#1\n",
    "l1 = len(s1)\n",
    "l2 = len(s2)\n",
    "l3 = len(s3)\n",
    "l4 = len(s4)\n",
    "l5 = len(s5)\n",
    "l6 = len(s6)\n",
    "l7 = len(s7)"
   ]
  },
  {
   "cell_type": "code",
   "execution_count": 21,
   "metadata": {},
   "outputs": [
    {
     "data": {
      "text/plain": [
       "34"
      ]
     },
     "execution_count": 21,
     "metadata": {},
     "output_type": "execute_result"
    }
   ],
   "source": [
    "#2\n",
    "total_len = l1+l2+l3+l4+l5+l6+l7\n",
    "total_len"
   ]
  },
  {
   "cell_type": "code",
   "execution_count": 23,
   "metadata": {},
   "outputs": [
    {
     "data": {
      "text/plain": [
       "'supercalifragilisticexpialidocious'"
      ]
     },
     "execution_count": 23,
     "metadata": {},
     "output_type": "execute_result"
    }
   ],
   "source": [
    "#3\n",
    "full_word = s1+s2+s3+s4+s5+s6+s7\n",
    "full_word"
   ]
  },
  {
   "cell_type": "code",
   "execution_count": 25,
   "metadata": {},
   "outputs": [
    {
     "data": {
      "text/plain": [
       "34"
      ]
     },
     "execution_count": 25,
     "metadata": {},
     "output_type": "execute_result"
    },
    {
     "data": {
      "text/plain": [
       "True"
      ]
     },
     "execution_count": 25,
     "metadata": {},
     "output_type": "execute_result"
    }
   ],
   "source": [
    "#4\n",
    "len(full_word)\n",
    "len(full_word) == total_len"
   ]
  },
  {
   "cell_type": "markdown",
   "metadata": {},
   "source": [
    "**Question 6a** 5pts \n",
    "\n",
    "Can you name the interconnected freshwater lakes that cover more than 94,000 square miles in North America? Think “HOMES” (Huron, Ontario, Michigan, Erie, and Superior). Create 5 strings each containg the name of these 5 lakes. Then get the 1st Letter from each of them in order to get the mnemonic \"HOMES\". Your print result should be \"HOMES\""
   ]
  },
  {
   "cell_type": "code",
   "execution_count": 26,
   "metadata": {},
   "outputs": [
    {
     "data": {
      "text/plain": [
       "'HOMES'"
      ]
     },
     "execution_count": 26,
     "metadata": {},
     "output_type": "execute_result"
    }
   ],
   "source": [
    "lake1 = \"Huron\"\n",
    "lake2 = \"Ontario\"\n",
    "lake3 = \"Michigan\"\n",
    "lake4 = \"Erie\"\n",
    "lake5 = \"Superior\"\n",
    "mneumonic = lake1[0]+lake2[0]+lake3[0]+lake4[0]+lake5[0]\n",
    "mneumonic"
   ]
  },
  {
   "cell_type": "markdown",
   "metadata": {},
   "source": [
    "**Question 6b**  5pts\n",
    "\n",
    "Figure out a way to slice and combine the strings s1 = '46789', s2 = '12', and s3= '2345'  so that the variable   \n",
    "consec_ints = '12345689'.  \n",
    "\n",
    "Note: Number 7 is missing on purpose. \n",
    "\n",
    "\n"
   ]
  },
  {
   "cell_type": "code",
   "execution_count": 27,
   "metadata": {},
   "outputs": [
    {
     "data": {
      "text/plain": [
       "'12345689'"
      ]
     },
     "execution_count": 27,
     "metadata": {},
     "output_type": "execute_result"
    }
   ],
   "source": [
    "s1 = '46789'\n",
    "s2 = '12'\n",
    "s3 = '2345'\n",
    "consec_ints = s2+s3[1:]+s1[1]+s1[3:]\n",
    "consec_ints"
   ]
  },
  {
   "cell_type": "markdown",
   "metadata": {},
   "source": [
    "**Question 7** 10pts\n",
    "\n",
    "Write a small program that does the following:\n",
    "\n",
    "1) Asks the user \"What's your name? \" and stores it into a variable called name.  \n",
    "2) Asks the user \"Where are you from? \" and stores it into a variable called origin.  \n",
    "3) Prints out a text message saying \"Hi (name), I've never been to (origin). I bet it's a great place!\"  "
   ]
  },
  {
   "cell_type": "code",
   "execution_count": 29,
   "metadata": {},
   "outputs": [
    {
     "name": "stdout",
     "output_type": "stream",
     "text": [
      "What's your name?Ethan\n",
      "Where are you from?Ontario\n",
      "Hi Ethan, I've never been to Ontario. I bet it's a great place!\n"
     ]
    }
   ],
   "source": [
    "name = input(\"What's your name?\")\n",
    "origin = input(\"Where are you from?\")\n",
    "print(\"Hi \" + name + \", I've never been to \" + origin + \". I bet it's a great place!\")"
   ]
  },
  {
   "cell_type": "markdown",
   "metadata": {},
   "source": [
    "**Question 8** 10pts\n",
    "\n",
    "Write a small program that does the following:\n",
    "\n",
    "1) Asks the user \"What's your favorite food? \" and stores it into a variable called food.    \n",
    "2) Prints their favorite food in lowercase.  \n",
    "3) Prints their favorite food in uppercase.  "
   ]
  },
  {
   "cell_type": "code",
   "execution_count": 30,
   "metadata": {},
   "outputs": [
    {
     "name": "stdout",
     "output_type": "stream",
     "text": [
      "What's your favorite food?Fajitas\n"
     ]
    },
    {
     "data": {
      "text/plain": [
       "'fajitas'"
      ]
     },
     "execution_count": 30,
     "metadata": {},
     "output_type": "execute_result"
    },
    {
     "data": {
      "text/plain": [
       "'FAJITAS'"
      ]
     },
     "execution_count": 30,
     "metadata": {},
     "output_type": "execute_result"
    }
   ],
   "source": [
    "food = input(\"What's your favorite food?\")\n",
    "food.lower()\n",
    "food.upper()"
   ]
  },
  {
   "cell_type": "markdown",
   "metadata": {},
   "source": [
    "**Question 9** 10pts  \n",
    "\n",
    "You are given the string s = 'When life gives you lemons, make lemonade'.  \n",
    "\n",
    "Write a small program that does the following:  \n",
    "\n",
    "1)  Grab the last letter/character      \n",
    "2)  Grab everything but the last letter  \n",
    "3)  Grab everything, but go in steps of size 1  \n",
    "4)  Grab everything, but go in steps of size 2  \n",
    "5)  Use a method to split the string on every 'o' character  "
   ]
  },
  {
   "cell_type": "code",
   "execution_count": 32,
   "metadata": {},
   "outputs": [
    {
     "data": {
      "text/plain": [
       "'e'"
      ]
     },
     "execution_count": 32,
     "metadata": {},
     "output_type": "execute_result"
    },
    {
     "data": {
      "text/plain": [
       "'When life gives you lemons, make lemonad'"
      ]
     },
     "execution_count": 32,
     "metadata": {},
     "output_type": "execute_result"
    },
    {
     "data": {
      "text/plain": [
       "'When life gives you lemons, make lemonade'"
      ]
     },
     "execution_count": 32,
     "metadata": {},
     "output_type": "execute_result"
    },
    {
     "data": {
      "text/plain": [
       "'We iegvsyulmn,mk eoae'"
      ]
     },
     "execution_count": 32,
     "metadata": {},
     "output_type": "execute_result"
    },
    {
     "data": {
      "text/plain": [
       "['When life gives y', 'u lem', 'ns, make lem', 'nade']"
      ]
     },
     "execution_count": 32,
     "metadata": {},
     "output_type": "execute_result"
    }
   ],
   "source": [
    "s = 'When life gives you lemons, make lemonade'\n",
    "s[len(s)-1] #1\n",
    "s[0:len(s)-1] #2\n",
    "s[::1] #3\n",
    "s[::2] #4\n",
    "s.split('o') #5"
   ]
  },
  {
   "cell_type": "markdown",
   "metadata": {},
   "source": [
    "**Question 10** 10pts  \n",
    "\n",
    "You are given a piece of a poem:  \n",
    "\n",
    "Rough winds do shake the darling buds of May,  \n",
    "And summer’s lease hath all too short a date.  \n",
    "\n",
    "Save it as a string and:\n",
    "\n",
    "1) Use \\n to print a new line and\n",
    "2) Use \\ to use an apostrophe while using single quotes for the string  \n",
    "\n",
    "When you print the string your goal is to see two lines as shown above."
   ]
  },
  {
   "cell_type": "code",
   "execution_count": 38,
   "metadata": {},
   "outputs": [
    {
     "name": "stdout",
     "output_type": "stream",
     "text": [
      "Rough winds do shake the darling buds of May, \n",
      "And summer's lease hath all too short a date.\n"
     ]
    }
   ],
   "source": [
    "poem = 'Rough winds do shake the darling buds of May, \\nAnd summer\\'s lease hath all too short a date.'\n",
    "print(poem)"
   ]
  }
 ],
 "metadata": {
  "kernelspec": {
   "display_name": "Python 3 (ipykernel)",
   "language": "python",
   "name": "python3"
  },
  "language_info": {
   "codemirror_mode": {
    "name": "ipython",
    "version": 3
   },
   "file_extension": ".py",
   "mimetype": "text/x-python",
   "name": "python",
   "nbconvert_exporter": "python",
   "pygments_lexer": "ipython3",
   "version": "3.9.13"
  },
  "toc": {
   "colors": {
    "hover_highlight": "#DAA520",
    "navigate_num": "#000000",
    "navigate_text": "#333333",
    "running_highlight": "#FF0000",
    "selected_highlight": "#FFD700",
    "sidebar_border": "#EEEEEE",
    "wrapper_background": "#FFFFFF"
   },
   "moveMenuLeft": true,
   "nav_menu": {
    "height": "12px",
    "width": "252px"
   },
   "navigate_menu": true,
   "number_sections": true,
   "sideBar": true,
   "skip_h1_title": false,
   "threshold": 4,
   "toc_cell": false,
   "toc_position": {},
   "toc_section_display": "block",
   "toc_window_display": false,
   "widenNotebook": false
  }
 },
 "nbformat": 4,
 "nbformat_minor": 2
}
