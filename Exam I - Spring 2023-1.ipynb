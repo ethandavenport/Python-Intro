{
 "cells": [
  {
   "cell_type": "markdown",
   "metadata": {},
   "source": [
    "###### To answer the questions below you are allowed to use only techniques and functions used in class. You are allowed to use any method however since methods are a covered topic. To name a few of the tools you are not allowed to use: list and dictionary comprehension, anonymous functions, untaught functions like zip,enumerate,map,filter etc."
   ]
  },
  {
   "cell_type": "markdown",
   "metadata": {},
   "source": [
    "### The order of questions is random. Please start from the ones that you know how to solve the fastest. If stuck, move on and come back later. Be strategic! "
   ]
  },
  {
   "cell_type": "markdown",
   "metadata": {},
   "source": [
    "### Question 1 (25pts):"
   ]
  },
  {
   "cell_type": "markdown",
   "metadata": {},
   "source": [
    "Ask the user to enter a word. If the word's length is less or equall to five, output a print statement that says the given word is too small. In any other case you process the given word as follows:\n",
    "\n",
    "* Insert the string 'bao' before the first character of the given string \n",
    "* Leave the odd-indexed characters un-touched\n",
    "* For every even-indexed character who is a multiple of 4 add the string 'for' in front of it \n",
    "* Add before every even-index character who is not a multiple of 4 the string 'ay' in front of it\n",
    "    \n",
    "Example: If user input is morning the output print statement would be 'baoformoayrnforinayg'."
   ]
  },
  {
   "cell_type": "code",
   "execution_count": 60,
   "metadata": {},
   "outputs": [
    {
     "name": "stdout",
     "output_type": "stream",
     "text": [
      "Please enter a word: morning\n"
     ]
    },
    {
     "data": {
      "text/plain": [
       "'baoformorforning'"
      ]
     },
     "execution_count": 60,
     "metadata": {},
     "output_type": "execute_result"
    }
   ],
   "source": [
    "# write your code here\n",
    "word = input(\"Please enter a word: \")\n",
    "sections = []\n",
    "\n",
    "if len(word) <= 5:\n",
    "    print(\"The given word is too small\")\n",
    "else:\n",
    "    word2 = 'bao' + word[:]\n",
    "    for index in range(len(word2)):\n",
    "        if index%4 == 3:\n",
    "            section = word2[:3] + \"for\"\n",
    "            word2 = word2[3:]\n",
    "            sections.append(section)\n",
    "    sections.append(word2[:])\n",
    "''.join(sections)"
   ]
  },
  {
   "cell_type": "code",
   "execution_count": 3,
   "metadata": {},
   "outputs": [
    {
     "name": "stdout",
     "output_type": "stream",
     "text": [
      "Please enter a word: morning\n"
     ]
    },
    {
     "data": {
      "text/plain": [
       "'baoformoayrnforinayg'"
      ]
     },
     "execution_count": 3,
     "metadata": {},
     "output_type": "execute_result"
    }
   ],
   "source": [
    "# correct code\n",
    "\n",
    "word = input(\"Please enter a word: \")\n",
    "final = ''\n",
    "     \n",
    "for i in range(len(word)):\n",
    "    if i == 0:\n",
    "        final += \"bao\"\n",
    "    \n",
    "    if i % 2 == 1:\n",
    "        final += word[i]\n",
    "    elif i % 4 == 0:\n",
    "        final += \"for\" + word[i]\n",
    "    else:\n",
    "        final += \"ay\" + word[i]\n",
    "        \n",
    "final\n",
    "    "
   ]
  },
  {
   "cell_type": "markdown",
   "metadata": {},
   "source": [
    "### Question 2 (25pts):"
   ]
  },
  {
   "cell_type": "markdown",
   "metadata": {},
   "source": [
    "Write code that identifies the longest word or words in a phrase provided by the user (The promise here is that the user can enter a very big phrase but it will be only one sentence in total). Output the length of the longest word or words - if there are more than one word with the same length - and the corresponding words in a meaningful print statement. The user might use the usual punctuation so take care of that as best as you can."
   ]
  },
  {
   "cell_type": "code",
   "execution_count": 35,
   "metadata": {},
   "outputs": [
    {
     "name": "stdout",
     "output_type": "stream",
     "text": [
      "Please enter a phrase: If the word's length is less or equall to five, output a print that says the given word is too small.\n",
      "The longest words in this phrase are 6 characters long! The words are:\n",
      "length\n",
      "equall\n",
      "output\n"
     ]
    }
   ],
   "source": [
    "# write your code here\n",
    "sentence = input(\"Please enter a phrase: \")\n",
    "words_list = sentence.split(' ')\n",
    "len_dict = {}\n",
    "\n",
    "# Grab the length of each word\n",
    "for word in words_list:\n",
    "    word = word.strip('.!?,;:')\n",
    "    letters = []\n",
    "    for letter in word:\n",
    "        if letter.isalpha() == True:\n",
    "            letters.append(letter)   # this ensures that apostrophes don't increase the length of the word (\"don't\" is 4 letters, not 5)\n",
    "    word = ''.join(letters)\n",
    "    length = len(word)\n",
    "    len_dict[word] = length\n",
    "\n",
    "# Save all of the word lengths in a list\n",
    "len_list = []\n",
    "for key,value in len_dict.items():\n",
    "    len_list.append(value)\n",
    "\n",
    "# Find the longest word length\n",
    "longest = max(len_list)\n",
    "\n",
    "# Output words with that length\n",
    "word_list = []\n",
    "for key,value in len_dict.items():\n",
    "    if value == longest:\n",
    "        word_list.append(key)\n",
    "if len(word_list) == 1:\n",
    "    print(\"The longest word in this phrase is\", word_list[0] + \". It is\", longest, \"characters long!\")\n",
    "else:\n",
    "    print(\"The longest words in this phrase are\", longest, \"characters long! The words are:\")\n",
    "    for word in word_list:\n",
    "        print(word)"
   ]
  },
  {
   "cell_type": "markdown",
   "metadata": {},
   "source": [
    "### Question 3 (15pts): "
   ]
  },
  {
   "cell_type": "markdown",
   "metadata": {},
   "source": [
    "We have a list of dictionaries that stores car-info from a dealership. Sort the dictionaries inside the list based on their respective color.(This means that the words that describe colors will be sorted aphabetically)\n",
    "\n",
    "Expected output:  \n",
    "\n",
    "Original list of dictionaries :  \n",
    "og = [{'make': 'Toyota', 'model': 'Corolla', 'color': 'black'}, {'make': 'Audi', 'model': 'A4', 'color': 'gold'}, {'make': 'Renault', 'model': 'Megane', 'color': 'blue'}, {'make': 'Fiat', 'model': '500', 'color': 'green'}]  \n",
    "\n",
    "\n",
    "Sorting the List of dictionaries :  \n",
    "sorted_by_color = [{'make': 'Toyota', 'model': 'Corolla', 'color': 'black'}, {'make': 'Renault', 'model': 'Megane', 'color': 'blue'}, {'make': 'Audi', 'model': 'A4', 'color': 'gold'}, {'make': 'Fiat', 'model': '500', 'color': 'green'}]\n",
    "\n",
    "#### You can assume that always the key that corresponds to the color value will be equal to 'color'."
   ]
  },
  {
   "cell_type": "code",
   "execution_count": 23,
   "metadata": {},
   "outputs": [
    {
     "data": {
      "text/plain": [
       "[{'make': 'Toyota', 'model': 'Corolla', 'color': 'black'},\n",
       " {'make': 'Renault', 'model': 'Megane', 'color': 'blue'},\n",
       " {'make': 'Audi', 'model': 'A4', 'color': 'gold'},\n",
       " {'make': 'Fiat', 'model': '500', 'color': 'green'}]"
      ]
     },
     "execution_count": 23,
     "metadata": {},
     "output_type": "execute_result"
    }
   ],
   "source": [
    "# write your code here\n",
    "og = [{'make': 'Toyota', 'model': 'Corolla', 'color': 'black'}, {'make': 'Audi', 'model': 'A4', 'color': 'gold'}, {'make': 'Renault', 'model': 'Megane', 'color': 'blue'}, {'make': 'Fiat', 'model': '500', 'color': 'green'}]\n",
    "sorted_by_color = []\n",
    "colors = []\n",
    "\n",
    "# Create a list of colors and sort them\n",
    "for vehicle in og:\n",
    "    color = vehicle['color']\n",
    "    colors.append(color)\n",
    "colors.sort()\n",
    "\n",
    "# Add vehicles to sorted list in color order\n",
    "for color in colors:\n",
    "    for vehicle in og:\n",
    "        if vehicle['color'] == color:\n",
    "            sorted_by_color.append(vehicle)\n",
    "\n",
    "sorted_by_color\n",
    "        "
   ]
  },
  {
   "cell_type": "markdown",
   "metadata": {},
   "source": [
    "### Question 4 (20pts): \n",
    "Write a program that checks if a customer qualifies for a loan. Ask the user to enter their salary, the number of years that they have been employed on their current job, and their credit score. Then print a statement saying 'You qualify for this loan' or 'Unfortunately you do not qualify for this loan' according to your findings. The loan applicant qualifies for the loan if they have a minimum salary of 30000 USD and a minimum of two years on the job combined or a minimum salary of 30000 USD and a credit score higher than 750 combined.\n"
   ]
  },
  {
   "cell_type": "code",
   "execution_count": 27,
   "metadata": {},
   "outputs": [
    {
     "name": "stdout",
     "output_type": "stream",
     "text": [
      "Please enter your salary: 30000\n",
      "How many years have you been employed at your current job? 1\n",
      "Please enter your credit score: 700\n",
      "Unfortunately, you do not qualify for this loan.\n"
     ]
    }
   ],
   "source": [
    "# write your code here\n",
    "\n",
    "# Gather input\n",
    "salary = int(input(\"Please enter your salary: \"))\n",
    "years = int(input(\"How many years have you been employed at your current job? \"))\n",
    "credit_score = int(input(\"Please enter your credit score: \"))\n",
    "\n",
    "# Test whether the loan applicant qualifies\n",
    "if (salary >= 30000 and years >= 2) or (salary >= 30000 and credit_score > 750):\n",
    "    print(\"You qualify for this loan.\")\n",
    "else:\n",
    "    print(\"Unfortunately, you do not qualify for this loan.\")"
   ]
  },
  {
   "cell_type": "markdown",
   "metadata": {},
   "source": [
    "### Question 5 (15pts): "
   ]
  },
  {
   "cell_type": "markdown",
   "metadata": {},
   "source": [
    "Write code that will do the following when given two lists:  \n",
    "* If the lists are not of equal length, print a message saying that the input is invalid.  \n",
    "* If the lists are of equal length create and output a list of tuples where in each tuple the first element is taken from the first list and the second element is taken from the second list.\n",
    "\n",
    "list_one = [1,2,3,4,5]  \n",
    "list_two = ['one','two','three','four','five']  \n",
    "sample_output_list = [(1, 'one'), (2, 'two'), (3, 'three'), (4, 'four'), (5, 'five')]\n",
    "\n"
   ]
  },
  {
   "cell_type": "code",
   "execution_count": 33,
   "metadata": {},
   "outputs": [
    {
     "name": "stdout",
     "output_type": "stream",
     "text": [
      "[(1, 'one'), (2, 'two'), (3, 'three'), (4, 'four'), (5, 'five')]\n"
     ]
    }
   ],
   "source": [
    "# write your code here\n",
    "\n",
    "# Create lists\n",
    "list_one = [1,2,3,4,5]\n",
    "list_two = ['one','two','three','four','five']\n",
    "output_list = []\n",
    "\n",
    "# Create output or return error message\n",
    "if len(list_one) != len(list_two):\n",
    "    print(\"The input is invalid. Lists must be of equal length.\")\n",
    "else:\n",
    "    for index in range(len(list_one)):\n",
    "        tup = (list_one[index], list_two[index])\n",
    "        output_list.append(tup)\n",
    "    print(output_list)"
   ]
  }
 ],
 "metadata": {
  "kernelspec": {
   "display_name": "Python 3 (ipykernel)",
   "language": "python",
   "name": "python3"
  },
  "language_info": {
   "codemirror_mode": {
    "name": "ipython",
    "version": 3
   },
   "file_extension": ".py",
   "mimetype": "text/x-python",
   "name": "python",
   "nbconvert_exporter": "python",
   "pygments_lexer": "ipython3",
   "version": "3.9.13"
  }
 },
 "nbformat": 4,
 "nbformat_minor": 4
}
