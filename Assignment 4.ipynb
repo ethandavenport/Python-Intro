{
 "cells": [
  {
   "cell_type": "markdown",
   "metadata": {},
   "source": [
    "# <p style=\"text-align: center;\"></p>\n",
    "# <p style=\"text-align: center;\">Assignment 4 </p>\n",
    "## <p style=\"text-align: center;\">Total points: 100</p>"
   ]
  },
  {
   "cell_type": "markdown",
   "metadata": {},
   "source": [
    "If you get an encryption error while trying to load one of the files try adding a third arguent in the open function as shown below: "
   ]
  },
  {
   "cell_type": "code",
   "execution_count": null,
   "metadata": {},
   "outputs": [],
   "source": [
    "f = open('file_name.txt(or csv)','r', encoding = 'utf-8')"
   ]
  },
  {
   "cell_type": "markdown",
   "metadata": {},
   "source": [
    "**Q1: Got Hops?** - 20 pts"
   ]
  },
  {
   "cell_type": "markdown",
   "metadata": {},
   "source": [
    "Each time we enter a URL or send a Google query, our computer sends a request that is routed across the internet until it reaches a server that \"serves\" us a response. Unix-based operating systems like MacOS or Linux come with a built-in command called traceroute we can run to see the route our request takes. \n",
    "\n",
    "Traceroute can also be used to diagnose network connectivity issues. To test the network, traceroute sends three packets--a formatted unit of data--to each device along the path and measures the round-trip time in milliseconds. \n",
    "\n",
    "Each line of traceroute output contains the hop number, the domain of the device, the device's IP address, and the round-trip time for three packets. Here is an example:\n",
    "\n",
    "```1  setup.ubnt.com (192.168.1.1)  100.018 ms  85.792 ms  6.889 ms```\n",
    "\n",
    "However, sometimes a packet can be dropped or servers can fail to respond. In this case, there will only be two or perhaps one packet listed after the IP address\n",
    "\n",
    "\n",
    "##### Your Task: \n",
    "Given a text file of sample traceroute output showing the hops from UT's network to Facebook's servers in California, print each device's IP address without parentheses and the average round-trip time for its packets. Round the average trip time to two decimal points."
   ]
  },
  {
   "cell_type": "code",
   "execution_count": 1,
   "metadata": {},
   "outputs": [],
   "source": [
    "#Tip1: Split on whitespace split() and not on a single empty space split(' ')\n",
    "    \n",
    "s = 'Hello   everyone  my name is         captain Jack Sparrow'"
   ]
  },
  {
   "cell_type": "code",
   "execution_count": 4,
   "metadata": {},
   "outputs": [],
   "source": [
    "# run me\n",
    "s.split(' ')"
   ]
  },
  {
   "cell_type": "code",
   "execution_count": 20,
   "metadata": {},
   "outputs": [],
   "source": [
    "# run me next\n",
    "s.split()"
   ]
  },
  {
   "cell_type": "code",
   "execution_count": 12,
   "metadata": {},
   "outputs": [
    {
     "name": "stdout",
     "output_type": "stream",
     "text": [
      "IP address: 10.146.0.1\n",
      "Average time: 26.78 ms\n",
      "\n",
      "IP address: 10.250.10.20\n",
      "Average time: 38.9 ms\n",
      "\n",
      "IP address: 10.250.10.21\n",
      "Average time: 11.29 ms\n",
      "\n",
      "IP address: 10.250.12.16\n",
      "Average time: 14.84 ms\n",
      "\n",
      "IP address: 10.83.10.197\n",
      "Average time: 22.4 ms\n",
      "\n",
      "IP address: 10.254.4.4\n",
      "Average time: 10.64 ms\n",
      "\n",
      "IP address: 10.254.4.25\n",
      "Average time: 19.77 ms\n",
      "\n",
      "IP address: 10.83.10.30\n",
      "Average time: 19.7 ms\n",
      "\n",
      "IP address: 192.12.10.17\n",
      "Average time: 17.74 ms\n",
      "\n",
      "IP address: 206.223.118.176\n",
      "Average time: 36.92 ms\n",
      "\n",
      "IP address: 147.75.217.140\n",
      "Average time: 39.46 ms\n",
      "\n",
      "IP address: 147.75.217.91\n",
      "Average time: 34.03 ms\n",
      "\n",
      "IP address: 147.75.217.199\n",
      "Average time: 27.38 ms\n",
      "\n",
      "IP address: 157.240.19.35\n",
      "Average time: 18.99 ms\n",
      "\n"
     ]
    }
   ],
   "source": [
    "# write your code here\n",
    "\n",
    "f = open('hops-1.txt','r')\n",
    "lines = f.readlines()\n",
    "\n",
    "for line in lines:\n",
    "    clean = line.split()\n",
    "    \n",
    "    print('IP address:', clean[2][1:-1])\n",
    "    \n",
    "    times = [float(time.strip('ms ')) for time in clean[3::2]]\n",
    "    avg = str(round(sum(times)/len(times),2))\n",
    "    print(f'Average time: {avg} ms\\n')\n"
   ]
  },
  {
   "cell_type": "markdown",
   "metadata": {},
   "source": [
    "**Q2: Top Artists... By Listens** - 20 pts"
   ]
  },
  {
   "cell_type": "markdown",
   "metadata": {},
   "source": [
    "You are given a .csv (comma-separated values) file of top songs on Spotify from 2010-2019 called songs.csv from [Kaggle](https://www.kaggle.com/datasets/leonardopena/top-spotify-songs-from-20102019-by-year)\n",
    "\n",
    "##### Your Task:\n",
    "1. Find the artist who has had the greatest number of hits across all years.\n",
    "2. Output or print all songs from that artist sorted alphabetically."
   ]
  },
  {
   "cell_type": "markdown",
   "metadata": {},
   "source": [
    "The given file contains songs/string entries that contain commas in their title. This will cause you issues if you try to split by commas. Since this is not the point of this task, I will give you a code snippet that does some of the initial processing without causing this issue. You can take it from there to answer the question.\n"
   ]
  },
  {
   "cell_type": "markdown",
   "metadata": {},
   "source": [
    "Use the starter code below to help you with some of the initial data cleaning:"
   ]
  },
  {
   "cell_type": "code",
   "execution_count": 13,
   "metadata": {},
   "outputs": [],
   "source": [
    "import csv\n",
    "\n",
    "artist_count = {}\n",
    "\n",
    "with open('songs-1.csv', encoding='unicode_escape') as f:\n",
    "    fh = csv.reader(f, delimiter=',')\n",
    "    next(fh)\n",
    "\n",
    "    all_data = [record for record in fh]\n",
    "    \n",
    "#all_data"
   ]
  },
  {
   "cell_type": "code",
   "execution_count": 16,
   "metadata": {},
   "outputs": [
    {
     "data": {
      "text/plain": [
       "['Birthday',\n",
       " 'Bon appétit',\n",
       " 'California Gurls',\n",
       " 'Chained To The Rhythm',\n",
       " 'Dark Horse',\n",
       " 'E.T.',\n",
       " 'Firework',\n",
       " 'Last Friday Night (T.G.I.F.)',\n",
       " 'Legendary Lovers',\n",
       " 'Part Of Me',\n",
       " 'Rise',\n",
       " 'Roar',\n",
       " 'Swish Swish',\n",
       " 'Teenage Dream',\n",
       " 'The One That Got Away',\n",
       " 'This Is How We Do',\n",
       " 'Wide Awake']"
      ]
     },
     "execution_count": 16,
     "metadata": {},
     "output_type": "execute_result"
    }
   ],
   "source": [
    "# write your code here\n",
    "\n",
    "for song in all_data:\n",
    "    artist = song[2]\n",
    "    if artist not in artist_count:\n",
    "        artist_count[artist] = 1\n",
    "    else:\n",
    "        artist_count[artist] += 1\n",
    "        \n",
    "counts = [count for artist,count in artist_count.items()]\n",
    "counts.sort(reverse = True)\n",
    "\n",
    "for artist,count in artist_count.items():\n",
    "    if count == counts[0]:\n",
    "        best_artist = artist\n",
    "        \n",
    "# Best artist is Katy Perry with 17 songs\n",
    "\n",
    "songs = [song[1] for song in all_data if song[2] == best_artist]\n",
    "songs.sort()\n",
    "songs"
   ]
  },
  {
   "cell_type": "markdown",
   "metadata": {},
   "source": [
    "**Q3: What's in a name?** - 20 pts\n",
    "\n",
    "Shakespeare in a programming class? Absolutely! Thankfully Python does the reading for us this time.\n",
    "\n",
    "You are given a .txt containing the entire script for Romeo and Juliet called shakespeare.txt \n",
    "\n",
    "##### Your Task:\n",
    "1. Create a dictionary with each character as a key and the number of times (= number of lines) that character speaks as a value.\n",
    "2. Sort the dictionary in descending order by value. Who speaks the most?"
   ]
  },
  {
   "cell_type": "code",
   "execution_count": 17,
   "metadata": {},
   "outputs": [
    {
     "data": {
      "text/plain": [
       "{'ROMEO': 163,\n",
       " 'JULIET': 118,\n",
       " 'NURSE': 90,\n",
       " 'BENVOLIO': 63,\n",
       " 'MERCUTIO': 62,\n",
       " 'FRIAR LAWRENCE': 55,\n",
       " 'CAPULET': 50,\n",
       " 'LADY CAPULET': 45,\n",
       " 'PARIS': 23,\n",
       " 'SAMPSON': 20,\n",
       " 'TYBALT': 17,\n",
       " 'PRINCE': 16,\n",
       " 'GREGORY': 15,\n",
       " 'PETER': 13,\n",
       " 'SERVINGMAN': 12,\n",
       " 'BALTHASAR': 12,\n",
       " 'MONTAGUE': 10,\n",
       " 'FIRST MUSICIAN': 10,\n",
       " 'FIRST WATCH': 6,\n",
       " 'ABRAM': 5,\n",
       " 'FIRST SERVINGMAN': 4,\n",
       " 'APOTHECARY': 4,\n",
       " 'FRIAR JOHN': 4,\n",
       " 'PAGE': 4,\n",
       " 'SECOND MUSICIAN': 3,\n",
       " 'LADY MONTAGUE': 2,\n",
       " 'SECOND SERVINGMAN': 2,\n",
       " 'THIRD SERVINGMAN': 2,\n",
       " \"CAPULET'S COUSIN\": 2,\n",
       " 'CITIZEN': 2,\n",
       " 'CITIZENS': 1,\n",
       " 'PETRUCHIO': 1,\n",
       " 'THIRD MUSICIAN': 1,\n",
       " 'SECOND WATCH': 1,\n",
       " 'THIRD WATCH': 1}"
      ]
     },
     "execution_count": 17,
     "metadata": {},
     "output_type": "execute_result"
    }
   ],
   "source": [
    "f = open('shakespeare-1.txt','r')\n",
    "lines = f.readlines()\n",
    "D = {}\n",
    "D_sorted = {}\n",
    "spoken = []\n",
    "\n",
    "for line in lines:\n",
    "    name = ''\n",
    "    words = line.strip('\\n=,:;.').split(' ')\n",
    "    #print(words)\n",
    "    if len(words) >= 2 and words[0] == words[0].upper():\n",
    "        if words[1] == words[1].upper():\n",
    "            name = words[0] + ' ' + words[1]\n",
    "        else:\n",
    "            name = words[0]\n",
    "    elif len(words) >= 1 and words[0] == words[0].upper():\n",
    "        name = words[0]\n",
    "    \n",
    "    name = name.strip(' ,')\n",
    "    if len(name) > 2 and ',' not in name:\n",
    "        spoken.append(name)\n",
    "        \n",
    "for name in spoken:\n",
    "    if name not in D:\n",
    "        D[name] = 1\n",
    "    else:\n",
    "        D[name] += 1\n",
    "        \n",
    "appearances = sorted(D.values(), reverse = True)\n",
    "for value in appearances:\n",
    "    for key in D.keys():\n",
    "        if D[key] == value:\n",
    "            D_sorted[key] = value\n",
    "\n",
    "D_sorted"
   ]
  },
  {
   "cell_type": "markdown",
   "metadata": {},
   "source": [
    "**Q4: AAPL Bottom Screens** - 20 pts"
   ]
  },
  {
   "cell_type": "markdown",
   "metadata": {},
   "source": [
    "You are given a .csv (comma-separated values) file of annual stock data on Apple Inc. called stocks.csv from [Yahoo Finance](https://finance.yahoo.com/quote/AAPL/history?p=AAPL)\n",
    "\n",
    "##### Your Task:\n",
    "Calculate the lowest opening price, the lowest daily high, the lowest daily low, and the lowest daily volume for Apple's stock using all the data. "
   ]
  },
  {
   "cell_type": "code",
   "execution_count": 21,
   "metadata": {},
   "outputs": [
    {
     "name": "stdout",
     "output_type": "stream",
     "text": [
      "The lowest opening price is 130.070007\n",
      "The lowest daily high is 132.389999\n",
      "The lowest daily low is 129.039993\n",
      "The lowest daily volume is 39152836\n"
     ]
    }
   ],
   "source": [
    "# write your code here\n",
    "\n",
    "f = open('stocks-1.csv','r')\n",
    "lines = f.readlines()\n",
    "open_prices = []\n",
    "high = []\n",
    "low = []\n",
    "volume = []\n",
    "\n",
    "for line in lines[1:]:\n",
    "        data = line.strip('\\n').split(',')\n",
    "        open_prices.append(float(data[1]))\n",
    "        high.append(float(data[2]))\n",
    "        low.append(float(data[3]))\n",
    "        volume.append(int(data[-1]))\n",
    "\n",
    "min_open = min(open_prices)\n",
    "min_high = min(high)\n",
    "min_low = min(low)\n",
    "min_volume = min(volume)\n",
    "\n",
    "print(f'The lowest opening price is {min_open}')\n",
    "print(f'The lowest daily high is {min_high}')\n",
    "print(f'The lowest daily low is {min_low}')\n",
    "print(f'The lowest daily volume is {min_volume}')\n"
   ]
  },
  {
   "cell_type": "markdown",
   "metadata": {},
   "source": [
    "**Q5: Quotes** - 20pts"
   ]
  },
  {
   "cell_type": "markdown",
   "metadata": {},
   "source": [
    "The file “quotes.txt” contains pairs of lines, with the first line being a quote\n",
    "and the following line being the person who said it. We want to build a\n",
    "search engine that, given a word or words, finds the best matching quotes.  \n",
    "\n",
    "\n",
    "##### Your Task:  \n",
    "Build a list of full quotes. Read in the file, and create\n",
    "a list of full quotes of the form “quote - speaker”. For example, “The heart\n",
    "has its reasons, of which the mind knows nothing. - Blaise Pascal”.  "
   ]
  },
  {
   "cell_type": "code",
   "execution_count": 25,
   "metadata": {},
   "outputs": [
    {
     "data": {
      "text/plain": [
       "['What is happiness? The feeling that power is growing, that resistance is overcome. - Friedrich Nietzsche',\n",
       " 'A great deal of intelligence can be invested in ignorance when the need for illusion is deep. - Saul Bellow',\n",
       " 'Those who are preoccupied with `making a statement` usually don`t have any statements worth making. - Thomas Sowell',\n",
       " 'Women need a reason to have sex -- men just need a place. - Billy Crystal']"
      ]
     },
     "execution_count": 25,
     "metadata": {},
     "output_type": "execute_result"
    }
   ],
   "source": [
    "# write your code here\n",
    "\n",
    "f = open('quotes-1.txt','r', encoding = 'utf-8')\n",
    "lines = f.readlines()\n",
    "\n",
    "quotes = [line.strip('\\n') for num,line in enumerate(lines) if num % 2 == 0]\n",
    "speakers = [line.strip('\\n') for num,line in enumerate(lines) if num % 2 == 1]\n",
    "\n",
    "final_quotes = [quote + ' - ' + speakers[index] for index,quote in enumerate(quotes)]\n",
    "final_quotes[2:6] #just so the output isn't overwhelming"
   ]
  }
 ],
 "metadata": {
  "kernelspec": {
   "display_name": "Python 3 (ipykernel)",
   "language": "python",
   "name": "python3"
  },
  "language_info": {
   "codemirror_mode": {
    "name": "ipython",
    "version": 3
   },
   "file_extension": ".py",
   "mimetype": "text/x-python",
   "name": "python",
   "nbconvert_exporter": "python",
   "pygments_lexer": "ipython3",
   "version": "3.9.13"
  },
  "vscode": {
   "interpreter": {
    "hash": "b0fa6594d8f4cbf19f97940f81e996739fb7646882a419484c72d19e05852a7e"
   }
  }
 },
 "nbformat": 4,
 "nbformat_minor": 2
}
