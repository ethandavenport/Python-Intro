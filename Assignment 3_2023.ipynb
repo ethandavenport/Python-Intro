{
 "cells": [
  {
   "cell_type": "markdown",
   "metadata": {},
   "source": [
    "# <p style=\"text-align: center;\"></p>\n",
    "# <p style=\"text-align: center;\">Assignment 3</p>\n",
    "## <p style=\"text-align: center;\">Total points: 100</p>\n"
   ]
  },
  {
   "cell_type": "markdown",
   "metadata": {},
   "source": [
    "**Question 1**    15pts  \n"
   ]
  },
  {
   "cell_type": "markdown",
   "metadata": {},
   "source": [
    "#### BLACKJACK: Given three integers between 1 and 11, if their sum is less than or equal to 21, return their sum. If their sum exceeds 21 *and* there's an eleven, reduce the total sum by 10. Finally, if the sum (even after adjustment) exceeds 21, return 'BUST'\n",
    "    blackjack(5,6,7) --> 18\n",
    "    blackjack(9,9,9) --> 'BUST'\n",
    "    blackjack(9,9,11) --> 19\n",
    "    \n",
    "You may use the sum() function. For example, to calculate the sum of the inputed arguments a,b,c of blackjack(a,b,c) you can use sum((a,b,c)) which is equal to a+b+c."
   ]
  },
  {
   "cell_type": "code",
   "execution_count": 5,
   "metadata": {},
   "outputs": [],
   "source": [
    "# write your code here\n",
    "\n",
    "def blackjack(card1,card2,card3):\n",
    "    '''\n",
    "    This function takes the sum of three cards in a blackjack hand and returns the output. Inputs are expected to be\n",
    "    integers.  Any sum over 21 is a bust. Aces are automatically counted as 11s, but if the sum of the hand is a bust,\n",
    "    aces will be counted as 1s instead.\n",
    "    '''\n",
    "    \n",
    "    hand_total = sum((card1,card2,card3))\n",
    "    if hand_total <= 21:\n",
    "        return hand_total\n",
    "    elif card1 == 11 or card2 == 11 or card3 == 11:\n",
    "        hand_total -= 10\n",
    "        return hand_total\n",
    "    else:\n",
    "        return \"BUST\"\n",
    "    "
   ]
  },
  {
   "cell_type": "code",
   "execution_count": 7,
   "metadata": {},
   "outputs": [
    {
     "data": {
      "text/plain": [
       "18"
      ]
     },
     "execution_count": 7,
     "metadata": {},
     "output_type": "execute_result"
    }
   ],
   "source": [
    "blackjack(5,6,7)"
   ]
  },
  {
   "cell_type": "code",
   "execution_count": 8,
   "metadata": {},
   "outputs": [
    {
     "data": {
      "text/plain": [
       "'BUST'"
      ]
     },
     "execution_count": 8,
     "metadata": {},
     "output_type": "execute_result"
    }
   ],
   "source": [
    "blackjack(9,9,9)"
   ]
  },
  {
   "cell_type": "code",
   "execution_count": 9,
   "metadata": {},
   "outputs": [
    {
     "data": {
      "text/plain": [
       "19"
      ]
     },
     "execution_count": 9,
     "metadata": {},
     "output_type": "execute_result"
    }
   ],
   "source": [
    "blackjack(9,9,11)"
   ]
  },
  {
   "cell_type": "markdown",
   "metadata": {},
   "source": [
    "**Question 2**    15pts  "
   ]
  },
  {
   "cell_type": "markdown",
   "metadata": {},
   "source": [
    "#### MASTER YODA: Write a Python function that when given a sentence, returns a sentence with the words reversed\n",
    "\n",
    "    master_yoda('I am home') --> 'home am I'\n",
    "    master_yoda('We are ready') --> 'ready are We'"
   ]
  },
  {
   "cell_type": "code",
   "execution_count": 11,
   "metadata": {},
   "outputs": [],
   "source": [
    "# write your code here\n",
    "\n",
    "def master_yoda(string):\n",
    "    '''\n",
    "    This function expects one string as an input. It will reverse the order of the words and return the output as a string.\n",
    "    '''\n",
    "    str_list = string.split(' ')\n",
    "    reverse = []\n",
    "    for word in str_list:\n",
    "        reverse.insert(0,word)\n",
    "    output = ' '.join(reverse)\n",
    "    return output\n"
   ]
  },
  {
   "cell_type": "code",
   "execution_count": 12,
   "metadata": {},
   "outputs": [
    {
     "data": {
      "text/plain": [
       "'home am I'"
      ]
     },
     "execution_count": 12,
     "metadata": {},
     "output_type": "execute_result"
    }
   ],
   "source": [
    "master_yoda('I am home')"
   ]
  },
  {
   "cell_type": "code",
   "execution_count": 13,
   "metadata": {},
   "outputs": [
    {
     "data": {
      "text/plain": [
       "'ready are We'"
      ]
     },
     "execution_count": 13,
     "metadata": {},
     "output_type": "execute_result"
    }
   ],
   "source": [
    "master_yoda('We are ready')"
   ]
  },
  {
   "cell_type": "markdown",
   "metadata": {},
   "source": [
    "**Question 3**    15pts  "
   ]
  },
  {
   "cell_type": "markdown",
   "metadata": {},
   "source": [
    "**Write a function that checks whether a number is in a given range (inclusive of high and low)**\n",
    "\n",
    "For example range_check(num,low,high) for num = 8, low = 10 and high = 20 outputs 'The number is outside the range.'"
   ]
  },
  {
   "cell_type": "code",
   "execution_count": 25,
   "metadata": {},
   "outputs": [],
   "source": [
    "# write your code here\n",
    "\n",
    "def range_check(num,low,high):\n",
    "    '''\n",
    "    This function expects three integer inputs. It will determine if the first input is inside the range from the second\n",
    "    input (lower bound) to the third input (upper bound), inclusive of the bounds. It will then return a statement of \n",
    "    whether the first input is within the given range.\n",
    "    '''\n",
    "    if num > high or num < low:\n",
    "        return \"The number is outside the range\"\n",
    "    else:\n",
    "        return \"The number %d is inside the range %d to %d\" %(num,low,high)\n",
    "    "
   ]
  },
  {
   "cell_type": "code",
   "execution_count": 26,
   "metadata": {},
   "outputs": [
    {
     "data": {
      "text/plain": [
       "'The number is outside the range'"
      ]
     },
     "execution_count": 26,
     "metadata": {},
     "output_type": "execute_result"
    }
   ],
   "source": [
    "range_check(8,10,20)"
   ]
  },
  {
   "cell_type": "code",
   "execution_count": 54,
   "metadata": {},
   "outputs": [
    {
     "data": {
      "text/plain": [
       "'The number 10 is inside the range 10 to 20'"
      ]
     },
     "execution_count": 54,
     "metadata": {},
     "output_type": "execute_result"
    }
   ],
   "source": [
    "range_check(10,10,20)"
   ]
  },
  {
   "cell_type": "code",
   "execution_count": 55,
   "metadata": {},
   "outputs": [
    {
     "data": {
      "text/plain": [
       "'The number is outside the range'"
      ]
     },
     "execution_count": 55,
     "metadata": {},
     "output_type": "execute_result"
    }
   ],
   "source": [
    "range_check(10,20,10)"
   ]
  },
  {
   "cell_type": "markdown",
   "metadata": {},
   "source": [
    "**Question 4**    15pts  "
   ]
  },
  {
   "cell_type": "markdown",
   "metadata": {},
   "source": [
    "**Write a Python function that takes a list and returns a new list with unique elements of the first list.**\n",
    "\n",
    "    Sample List : [1,1,1,1,2,2,3,3,3,3,4,5]\n",
    "    Unique List : [1, 2, 3, 4, 5]"
   ]
  },
  {
   "cell_type": "code",
   "execution_count": 27,
   "metadata": {},
   "outputs": [],
   "source": [
    "# write your code here\n",
    "\n",
    "def unique(given_list):\n",
    "    '''\n",
    "    This function expects an input of one list. It returns a new list with unique elements of the original list.\n",
    "    '''\n",
    "    unique_list = []\n",
    "    for element in given_list:\n",
    "        if element not in unique_list:\n",
    "            unique_list.append(element)\n",
    "    return unique_list\n",
    "    "
   ]
  },
  {
   "cell_type": "code",
   "execution_count": 28,
   "metadata": {},
   "outputs": [
    {
     "data": {
      "text/plain": [
       "[1, 2, 3, 4, 5]"
      ]
     },
     "execution_count": 28,
     "metadata": {},
     "output_type": "execute_result"
    }
   ],
   "source": [
    "unique([1,1,1,1,2,2,3,3,3,3,4,5])"
   ]
  },
  {
   "cell_type": "markdown",
   "metadata": {},
   "source": [
    "**Question 5**    15pts  "
   ]
  },
  {
   "cell_type": "markdown",
   "metadata": {},
   "source": [
    "Character recognition software is widely used to digitise printed texts. Thus the texts can be edited, searched and stored on a computer.  \n",
    "\n",
    "When documents (especially pretty old ones written with a typewriter), are digitised character recognition softwares often make mistakes.  \n",
    "\n",
    "Your task is correct the errors in the digitised text. You only have to handle the following mistakes:  \n",
    "\n",
    "S is misinterpreted as 5  \n",
    "O is misinterpreted as 0  \n",
    "I is misinterpreted as 1  \n",
    "\n",
    "For example:    \n",
    "             \"L0ND0N\"    -> \"LONDON\"  \n",
    "             \"DUBL1N\"    -> \"DUBLIN\"  \n",
    "             \"51NGAP0RE\" ->\"SINGAPORE\"  \n",
    "             \"BUDAPE5T\"  -> \"BUDAPEST\"  \n",
    "             \"PAR15\"     -> \"PARIS\"  "
   ]
  },
  {
   "cell_type": "code",
   "execution_count": 52,
   "metadata": {},
   "outputs": [],
   "source": [
    "# write your code here\n",
    "\n",
    "def correct_characters(string):\n",
    "    '''\n",
    "    This function expectes an input of one string. It will change any \"5\"s to \"S\"s, \"0\"s to \"O\"s, and \"1\"s to \"I\"s so as\n",
    "    to correct any mistakes in digitised character recognition. It will then return the corrected result as a string.\n",
    "    '''\n",
    "    str_list = list(string)\n",
    "    for index in range(len(str_list)):\n",
    "        if str_list[index] == \"5\":\n",
    "            str_list[index] = \"S\"\n",
    "        elif str_list[index] == \"0\":\n",
    "            str_list[index] = \"O\"\n",
    "        elif str_list[index] == \"1\":\n",
    "            str_list[index] = \"I\"\n",
    "    return ''.join(str_list)\n",
    "    "
   ]
  },
  {
   "cell_type": "code",
   "execution_count": 53,
   "metadata": {},
   "outputs": [
    {
     "data": {
      "text/plain": [
       "'LONDON'"
      ]
     },
     "execution_count": 53,
     "metadata": {},
     "output_type": "execute_result"
    }
   ],
   "source": [
    "correct_characters(\"L0ND0N\")"
   ]
  },
  {
   "cell_type": "code",
   "execution_count": 34,
   "metadata": {},
   "outputs": [
    {
     "data": {
      "text/plain": [
       "'DUBLIN'"
      ]
     },
     "execution_count": 34,
     "metadata": {},
     "output_type": "execute_result"
    }
   ],
   "source": [
    "correct_characters(\"DUBL1N\")"
   ]
  },
  {
   "cell_type": "code",
   "execution_count": 35,
   "metadata": {},
   "outputs": [
    {
     "data": {
      "text/plain": [
       "'SINGAPORE'"
      ]
     },
     "execution_count": 35,
     "metadata": {},
     "output_type": "execute_result"
    }
   ],
   "source": [
    "correct_characters(\"51NGAP0RE\")"
   ]
  },
  {
   "cell_type": "code",
   "execution_count": 36,
   "metadata": {},
   "outputs": [
    {
     "data": {
      "text/plain": [
       "'BUDAPEST'"
      ]
     },
     "execution_count": 36,
     "metadata": {},
     "output_type": "execute_result"
    }
   ],
   "source": [
    "correct_characters(\"BUDAPE5T\")"
   ]
  },
  {
   "cell_type": "code",
   "execution_count": 37,
   "metadata": {},
   "outputs": [
    {
     "data": {
      "text/plain": [
       "'PARIS'"
      ]
     },
     "execution_count": 37,
     "metadata": {},
     "output_type": "execute_result"
    }
   ],
   "source": [
    "correct_characters(\"PAR15\")"
   ]
  },
  {
   "cell_type": "markdown",
   "metadata": {},
   "source": [
    "**Question 6**    15pts  "
   ]
  },
  {
   "cell_type": "markdown",
   "metadata": {},
   "source": [
    "**Write a Python function that checks whether a word or phrase is palindrome or not.**\n",
    "\n",
    "Note: A palindrome is word, phrase, or sequence that reads the same backward as forward, e.g., madam,kayak,racecar, or a phrase \"nurses run\"."
   ]
  },
  {
   "cell_type": "code",
   "execution_count": 40,
   "metadata": {},
   "outputs": [],
   "source": [
    "# write your code here\n",
    "\n",
    "def palindrome(string):\n",
    "    '''\n",
    "    This function expects an input of one string. It will check and return a statement about whether the word or phrase\n",
    "    given, after removing spaces, is a palindrome, meaning it reads the same forwards and backwards.\n",
    "    '''\n",
    "    no_spaces = ''.join(string.split(' '))\n",
    "    test_list = list(no_spaces)\n",
    "    reverse = []\n",
    "    for char in test_list:\n",
    "        reverse.insert(0,char)\n",
    "    \n",
    "    if reverse == test_list:\n",
    "        return \"This word or phrase is a palindrome\"\n",
    "    else:\n",
    "        return \"This word or phrase is NOT a palindrome\"\n"
   ]
  },
  {
   "cell_type": "code",
   "execution_count": 41,
   "metadata": {},
   "outputs": [
    {
     "data": {
      "text/plain": [
       "'This word or phrase is a palindrome'"
      ]
     },
     "execution_count": 41,
     "metadata": {},
     "output_type": "execute_result"
    }
   ],
   "source": [
    "palindrome(\"madam\")"
   ]
  },
  {
   "cell_type": "code",
   "execution_count": 42,
   "metadata": {},
   "outputs": [
    {
     "data": {
      "text/plain": [
       "'This word or phrase is a palindrome'"
      ]
     },
     "execution_count": 42,
     "metadata": {},
     "output_type": "execute_result"
    }
   ],
   "source": [
    "palindrome(\"nurses run\")"
   ]
  },
  {
   "cell_type": "code",
   "execution_count": 43,
   "metadata": {},
   "outputs": [
    {
     "data": {
      "text/plain": [
       "'This word or phrase is NOT a palindrome'"
      ]
     },
     "execution_count": 43,
     "metadata": {},
     "output_type": "execute_result"
    }
   ],
   "source": [
    "palindrome(\"aquatic\")"
   ]
  },
  {
   "cell_type": "markdown",
   "metadata": {},
   "source": [
    "**Question 7**    10pts  "
   ]
  },
  {
   "cell_type": "markdown",
   "metadata": {},
   "source": [
    "Write a Python function that accepts two string arguments and returns True if the first argument ends with the second argument, and False otherwise.   \n",
    "For example if you input: end_check('abcdefg','defg') the output will be True.   "
   ]
  },
  {
   "cell_type": "code",
   "execution_count": 46,
   "metadata": {},
   "outputs": [],
   "source": [
    "# write your code here\n",
    "\n",
    "def end_check(str1,str2):\n",
    "    '''\n",
    "    This function expects an input of two strings. It returns True if the first string ends with the second string, and\n",
    "    False otherwise.\n",
    "    '''\n",
    "    if str2 == str1[-len(str2):]:\n",
    "        return True\n",
    "    else:\n",
    "        return False\n"
   ]
  },
  {
   "cell_type": "code",
   "execution_count": 47,
   "metadata": {},
   "outputs": [
    {
     "data": {
      "text/plain": [
       "True"
      ]
     },
     "execution_count": 47,
     "metadata": {},
     "output_type": "execute_result"
    }
   ],
   "source": [
    "end_check('abcdefg','defg')"
   ]
  },
  {
   "cell_type": "code",
   "execution_count": 48,
   "metadata": {},
   "outputs": [
    {
     "data": {
      "text/plain": [
       "False"
      ]
     },
     "execution_count": 48,
     "metadata": {},
     "output_type": "execute_result"
    }
   ],
   "source": [
    "end_check('abcdefg','abc')"
   ]
  }
 ],
 "metadata": {
  "kernelspec": {
   "display_name": "Python 3 (ipykernel)",
   "language": "python",
   "name": "python3"
  },
  "language_info": {
   "codemirror_mode": {
    "name": "ipython",
    "version": 3
   },
   "file_extension": ".py",
   "mimetype": "text/x-python",
   "name": "python",
   "nbconvert_exporter": "python",
   "pygments_lexer": "ipython3",
   "version": "3.9.13"
  }
 },
 "nbformat": 4,
 "nbformat_minor": 4
}
