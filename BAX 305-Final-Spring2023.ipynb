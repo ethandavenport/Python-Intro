{
 "cells": [
  {
   "cell_type": "markdown",
   "metadata": {},
   "source": [
    "## Question 1 :   \n",
    "### 20 pts "
   ]
  },
  {
   "cell_type": "markdown",
   "metadata": {},
   "source": [
    "You are given the file 'us_states.txt' that contains the state name, state abbreviation , and state capital.  \n",
    "Read the file and process it (you need to deal with the * characters that are being present in the file) and create a dictionary called abbr_dict that has for keys the state name and for values the respective state two letter abbreviation.\n",
    "\n",
    "After you are done check the length of the dictionary to see if it is equal to 50."
   ]
  },
  {
   "cell_type": "code",
   "execution_count": 7,
   "metadata": {},
   "outputs": [],
   "source": [
    "# write your code here\n",
    "\n",
    "f = open('us_states.txt','r')\n",
    "lines = f.readlines()\n",
    "\n",
    "clean_lines = [line.strip('\\n').split('*') for line in lines]\n",
    "\n",
    "abbr_dict = {}\n",
    "for line in clean_lines[1:]:\n",
    "    abbr_dict[line[0]] = line[1]"
   ]
  },
  {
   "cell_type": "markdown",
   "metadata": {},
   "source": [
    "Using the dictionary you created in the previous part to create an educative game that works as follows:  \n",
    "\n",
    "* Greets the user with: \"Would you like to play a geography game? (Y for Yes or N for No) - enter STOP anytime you wish to stop playing\"\n",
    "* If the player selects N, then everything terminates and no other message is shown on screen.\n",
    "* If the player selects Y, a message like the following appears on screen: 'What is the two letter abbreviation of the state of (*) ?' and there is a box waiting for the user's answer/input.\n",
    "\n",
    "(*) is a randomly selected key-state from the first dictionary you created.\n",
    "\n",
    "* If the player inputs the correct answer (take precautions so upper or lowercase entries don't make a difference), then the following message appears: 'That is correct ! So far your total score is 1 points'\n",
    "\n",
    "Every time the player answers correctly get's this victorious message as well as their running total of a score.\n",
    "At the same time a new question pops up on the screen.\n",
    "\n",
    "* If the player gives a wrong answer gets the message: 'Wrong answer, the game is over' and the game stops.\n",
    "* If the player enters STOP, gets the messageL 'Till next time!' and the game stops.\n",
    "\n",
    "Sample Output:  \n",
    "\n",
    "Would you like to play a geography game? (Y for Yes or N for No) - enter STOP anytime you wish to stop playing.  \n",
    "Y   \n",
    "\n",
    "What is the two letter abbreviation of the state of Texas ?TX  \n",
    "That is correct ! So far your total score is 1 points  \n",
    "What is the two letter abbreviation of the state of Utah ?UT  \n",
    "That is correct ! So far your total score is 2 points  \n",
    "What is the two letter abbreviation of the state of Iowa ?IA  \n",
    "That is correct ! So far your total score is 3 points  \n",
    "What is the two letter abbreviation of the state of Missouri ?MI  \n",
    "Wrong answer, the game is over  \n",
    "\n",
    "**Useful remarks**:\n",
    "\n",
    "* If you were not successfull in getting the first dictionary in the previous exercise you may use the abbr_dict listed below.\n",
    "* To make the states-abbreviation pairs to shuffle use the random library (see Useful Python Operators)\n",
    "* If you can't make the game random-shuffling don't give up, you can make it deterministic (and lose some points) by starting at the start of the dictionary and moving alphabetically iterating over it's keys for example.\n",
    "\n",
    "**In my opinion this question is the trickiest, if you get stuck either move on or answer part of it it without randomly selecting the states for the questions** "
   ]
  },
  {
   "cell_type": "markdown",
   "metadata": {},
   "source": [
    "**If you were not sucessful in extracting the dictionary, you may use the given one below:**"
   ]
  },
  {
   "cell_type": "code",
   "execution_count": null,
   "metadata": {},
   "outputs": [],
   "source": [
    "abbr_dict = {'Alabama': 'AL', 'Alaska': 'AK', 'Arizona': 'AZ', 'Arkansas': 'AR', 'California': 'CA', 'Colorado': 'CO', 'Connecticut': 'CT', 'Delaware': 'DE', 'Florida': 'FL', 'Georgia': 'GA', 'Hawaii': 'HI', 'Idaho': 'ID', 'Illinois': 'IL', 'Indiana': 'IN', 'Iowa': 'IA', 'Kansas': 'KS', 'Kentucky': 'KY', 'Louisiana': 'LA', 'Maine': 'ME', 'Maryland': 'MD', 'Massachusetts': 'MA', 'Michigan': 'MI', 'Minnesota': 'MN', 'Mississippi': 'MS', 'Missouri': 'MO', 'Montana': 'MT', 'Nebraska': 'NE', 'Nevada': 'NV', 'New Hampshire': 'NH', 'New Jersey': 'NJ', 'New Mexico': 'NM', 'New York': 'NY', 'North Carolina': 'NC', 'North Dakota': 'ND', 'Ohio': 'OH', 'Oklahoma': 'OK', 'Oregon': 'OR', 'Pennsylvania': 'PA', 'Rhode Island': 'RI', 'South Carolina': 'SC', 'South Dakota': 'SD', 'Tennessee': 'TN', 'Texas': 'TX', 'Utah': 'UT', 'Vermont': 'VT', 'Virginia': 'VA', 'Washington': 'WA', 'West Virginia': 'WV', 'Wisconsin': 'WI', 'Wyoming': 'WY'}"
   ]
  },
  {
   "cell_type": "markdown",
   "metadata": {},
   "source": [
    "**Hint:** You may follow it if you want, any solution is acceptable.  \n",
    "\n",
    "In this example the dictionary has key = fruit, value = color.  \n",
    "In your case the dictionary has key = state, value = abbreviation.  \n",
    "\n",
    "Try to transfer the example below in your code as you try to solve the exersice."
   ]
  },
  {
   "cell_type": "code",
   "execution_count": 8,
   "metadata": {},
   "outputs": [
    {
     "name": "stdout",
     "output_type": "stream",
     "text": [
      "('apple', 'red')\n"
     ]
    }
   ],
   "source": [
    "# import random\n",
    "import random\n",
    "\n",
    "# or import shuffle\n",
    "#from random import shuffle\n",
    "\n",
    "# In our case we have a dictionary with state-abbreviation\n",
    "d = {'apple':'red','orange':'orange', 'banana':'yellow'}\n",
    "\n",
    "# You can use the .items() dictionary method to grab the key-value pairs and\n",
    "# then use list() to put them in a list\n",
    "entry_list = list(d.items())\n",
    "\n",
    "# You could do something like that in order to randomly select a pair of state - abbreviation\n",
    "random_entry = random.choice(entry_list)\n",
    "\n",
    "print(random_entry)\n",
    "\n",
    "# All that is left is for each pair, ask the user the key=state \n",
    "#(For example: What is the abbreviation of Texas(='banana')?)\n",
    "# If user enters (user input) TX(= yellow) then the user answered correctly"
   ]
  },
  {
   "cell_type": "code",
   "execution_count": 168,
   "metadata": {},
   "outputs": [
    {
     "name": "stdout",
     "output_type": "stream",
     "text": [
      "Would you like to play a geography game? (Y for Yes or N for No) - enter STOP anytime you wish to stop playing. Y\n",
      "What is the two letter abbreviation of the state of Alaska? ak\n",
      "That is correct ! So far your total score is 1 points\n",
      "What is the two letter abbreviation of the state of North Carolina? nC\n",
      "That is correct ! So far your total score is 2 points\n",
      "What is the two letter abbreviation of the state of Colorado? CO\n",
      "That is correct ! So far your total score is 3 points\n",
      "What is the two letter abbreviation of the state of Louisiana? LO\n",
      "Wrong answer, the game is over\n"
     ]
    }
   ],
   "source": [
    "# write your code here\n",
    "\n",
    "import random\n",
    "\n",
    "start = input(\"Would you like to play a geography game? (Y for Yes or N for No) \\\n",
    "- enter STOP anytime you wish to stop playing. \")\n",
    "entry_list = list(abbr_dict.items())\n",
    "result = 'correct'\n",
    "\n",
    "if start == 'N':\n",
    "    pass\n",
    "elif start != 'Y':\n",
    "    print(\"Please enter either 'Y' or 'N'\")\n",
    "else:\n",
    "    score = 0\n",
    "    while result == 'correct':\n",
    "        random_entry = random.choice(entry_list)\n",
    "        response = input(f'What is the two letter abbreviation of the state of {random_entry[0]}? ')\n",
    "        if response.upper() == random_entry[1]:\n",
    "            score += 1\n",
    "            print(f'That is correct ! So far your total score is {score} points')\n",
    "        elif response == 'STOP':\n",
    "            print('Till next time!')\n",
    "            result = 'stopped'\n",
    "        else:\n",
    "            print('Wrong answer, the game is over')\n",
    "            result = 'incorrect'"
   ]
  },
  {
   "cell_type": "markdown",
   "metadata": {},
   "source": [
    "## Question 2 :   \n",
    "### 20 pts "
   ]
  },
  {
   "cell_type": "markdown",
   "metadata": {},
   "source": [
    "Imagine you have stored the amounts of required ingredients for a muffin recipe in a dictionary like that: \n",
    "\n",
    "muffin = {'flour': 500, 'sugar': 200, 'eggs': 1}. This means that in order to make one batch of muffins (= dictionary name) you need in terms of amounts: 500 of flour, 200 of sugar and 1 egg.  \n",
    "\n",
    "Now imagine that peoples baking inventories are stored in similar dictionaries:  \n",
    "\n",
    "Mona = {'flour': 2000, 'sugar': 700, 'eggs': 8,'yeast':1,'honey':50}  \n",
    "Wong = {'flour': 3000, 'sugar': 200, 'eggs': 2,'honey':150}  \n",
    "Charlie = {'flour': 500, 'sugar': 200, 'cocoa': 200}\n",
    "Carlos = {'flour': 500, 'sugar': 100, 'eggs': 2}\n",
    "\n",
    "You can see that Mona with the amounts she has can make 3 batches of muffins according to the recipe (and she has some extra ingredients that we don't mind).  \n",
    "Wong can only make one batch of muffins, Charlie can't cook because one main ingredient is missing from his list, and Carlos can cook 0 batches (all ingredients are there, but not enough quantity.)\n",
    "\n",
    "\n",
    "Write a function called **chef_help** that accepts two dictionary arguments where one is a person's inventory and the other one the required ingredient for a batch of this particular recipe. This function should output a message saying how many batches of the recipe-dictionary used as one of the arguments, the person's inventory dictionary is able to cook.\n",
    "\n",
    "If a person has some portion of a required ingredient, but not all of it, the output should be:  \n",
    "\n",
    "'With the ingredients available you are able to cook 0 of the recipe batches. You have all the ingredients but not in their required quantities'   \n",
    "\n",
    "If a person is missing entirely a required ingredient, the output should be:  \n",
    "\n",
    "'You are missing a main ingredient - no cooking can be done today using this recipe. You need to go shopping'  \n",
    "\n",
    "\n",
    "For example these three calls of the chef_help function will give the following:   \n",
    "\n",
    "* chef_help(Mona,muffin)     \n",
    "'With the ingredients available you are able to cook 3 of the recipe batches'    \n",
    "\n",
    "\n",
    "* chef_help(Wong,muffin)   \n",
    "'With the ingredients available you are able to cook 1 of the recipe batches'  \n",
    "\n",
    "\n",
    "* chef_help(Charlie,muffin)     \n",
    "'You are missing a main ingredient - no cooking can be done today using this recipe'\n",
    "\n",
    "  \n",
    "* chef_help(Carlos,muffin)  \n",
    "'With the ingredients available you are able to cook 0 of the recipe batches' "
   ]
  },
  {
   "cell_type": "code",
   "execution_count": 21,
   "metadata": {},
   "outputs": [],
   "source": [
    "# recipe\n",
    "muffin = {'flour': 500, 'sugar': 200, 'eggs': 1}"
   ]
  },
  {
   "cell_type": "code",
   "execution_count": 158,
   "metadata": {},
   "outputs": [],
   "source": [
    "# test inventories\n",
    "Mona = {'flour': 2000, 'sugar': 700, 'eggs': 8,'yeast':1,'honey':50}\n",
    "Wong = {'flour': 3000, 'sugar': 200, 'eggs': 2,'honey':150}\n",
    "Charlie = {'flour': 500, 'sugar': 200, 'cocoa': 200}\n",
    "Carlos = {'flour': 500, 'sugar': 100, 'eggs': 2}\n"
   ]
  },
  {
   "cell_type": "code",
   "execution_count": 38,
   "metadata": {},
   "outputs": [],
   "source": [
    "# write your code here\n",
    "\n",
    "def chef_help(inventory,recipe):\n",
    "    '''\n",
    "    This function expects two dictionary inputs. The first one is the inventory, the second is the recipe.\n",
    "    If a person's inventory is missing entirely a required ingredient, it will alert the user.\n",
    "    If a person's inventory has all the required ingredients, it will tell the user how many batches of that recipe they\n",
    "    can make with their inventory.\n",
    "    '''\n",
    "    for ingredient,amount in recipe.items():\n",
    "        if ingredient not in inventory.keys():\n",
    "            return 'You are missing a main ingredient - no cooking can be done today using this recipe'\n",
    "    \n",
    "    batch_nums = []\n",
    "    for ingredient,amount in inventory.items():\n",
    "        if ingredient in recipe.keys():\n",
    "            batches = -1\n",
    "            while amount >= 0:\n",
    "                amount -= recipe[ingredient]\n",
    "                batches += 1\n",
    "            batch_nums.append(batches)\n",
    "    return f'With the ingredients available you are able to cook {min(batch_nums)} of the recipe batches'"
   ]
  },
  {
   "cell_type": "code",
   "execution_count": 39,
   "metadata": {},
   "outputs": [
    {
     "name": "stdout",
     "output_type": "stream",
     "text": [
      "With the ingredients available you are able to cook 3 of the recipe batches\n",
      "With the ingredients available you are able to cook 1 of the recipe batches\n",
      "You are missing a main ingredient - no cooking can be done today using this recipe\n",
      "With the ingredients available you are able to cook 0 of the recipe batches\n"
     ]
    }
   ],
   "source": [
    "# use these tests to test your code once you have created the chef_help function:\n",
    "\n",
    "print(chef_help(Mona,muffin))\n",
    "print(chef_help(Wong,muffin))\n",
    "print(chef_help(Charlie,muffin))\n",
    "print(chef_help(Carlos,muffin))"
   ]
  },
  {
   "cell_type": "markdown",
   "metadata": {},
   "source": [
    "#### Extra credit 10pts: \n",
    "\n",
    "Try to tweak the function to output a required shopping list based on the missing ingredients so that one batch can be coocked afterwards. \n",
    "\n",
    "For example, for Charlie, it would say that 1 extra egg is required.\n",
    "For Carlos it would say that 100 (assumed grams) of sugar is required."
   ]
  },
  {
   "cell_type": "code",
   "execution_count": 164,
   "metadata": {},
   "outputs": [],
   "source": [
    "Test = {'flour': 300, 'sugar': 200, 'cocoa': 200} #this test is low on flour AND missing eggs completely"
   ]
  },
  {
   "cell_type": "code",
   "execution_count": 165,
   "metadata": {},
   "outputs": [],
   "source": [
    "# write your code here\n",
    "\n",
    "def chef_help(inventory,recipe):\n",
    "    '''\n",
    "    This function expects two dictionary inputs. The first one is the inventory, the second is the recipe.\n",
    "    If a person's inventory is missing entirely a required ingredient or if the person doesn't have enough of all the\n",
    "    ingredients, it will return a shopping list to the user.\n",
    "    If a person's inventory has sufficient amounts of all the required ingredients, it will tell the user how many\n",
    "    batches of that recipe they can make with their inventory.\n",
    "    '''\n",
    "    shopping_list = []\n",
    "    for ingredient,amount in recipe.items():\n",
    "        if ingredient not in inventory.keys():\n",
    "            shopping_list.append(f'You still need {ingredient} in the amount of {amount}')\n",
    "    \n",
    "    batch_nums = []\n",
    "    for ingredient,amount in inventory.items():\n",
    "        if ingredient in recipe.keys():\n",
    "            batches = -1\n",
    "            while amount >= 0:\n",
    "                amount -= recipe[ingredient]\n",
    "                batches += 1\n",
    "            batch_nums.append(batches)\n",
    "    \n",
    "    batches_able = min(batch_nums)\n",
    "    \n",
    "    if batches_able == 0 or len(shopping_list) > 0:\n",
    "        for ingredient,amount in inventory.items():\n",
    "            if ingredient in recipe.keys():\n",
    "                amt_needed = recipe[ingredient] - amount\n",
    "                if amt_needed > 0:\n",
    "                    shopping_list.append(f'You still need {ingredient} in the amount of {amt_needed}')\n",
    "        for index in range(len(shopping_list)):\n",
    "            print(shopping_list[index])\n",
    "        return ''\n",
    "    else:\n",
    "        return f'With the ingredients available you are able to cook {batches_able} of the recipe batches'"
   ]
  },
  {
   "cell_type": "code",
   "execution_count": 166,
   "metadata": {},
   "outputs": [
    {
     "name": "stdout",
     "output_type": "stream",
     "text": [
      "You still need eggs in the amount of 1\n",
      "\n",
      "You still need sugar in the amount of 100\n",
      "\n",
      "You still need eggs in the amount of 1\n",
      "You still need flour in the amount of 200\n",
      "\n"
     ]
    }
   ],
   "source": [
    "print(chef_help(Charlie,muffin))\n",
    "print(chef_help(Carlos,muffin))\n",
    "print(chef_help(Test,muffin))"
   ]
  },
  {
   "cell_type": "markdown",
   "metadata": {},
   "source": [
    "## Question 3 :   \n",
    "### 20 pts "
   ]
  },
  {
   "cell_type": "markdown",
   "metadata": {},
   "source": [
    "* Create a SavingsAccount class \n",
    "* Add the following instance attributes to the __init__ method : account number, name, interest rate, and balance set to zero (balance = 0)\n",
    "* Write a __str__ method in SavingsAccount to include all class attributes in a short descriptive message (Imagine a message someone sees when accessing their account from an ATM or their online banking).This will allow you to use the print() function with your objects.\n",
    "* Add a deposit method to the SavingsAccount: this method will receive a parameter called deposit_amt. If the amount passed in is greater than zero, then it will be added to the balance. Otherwise, output a statement explaining that the deposit amount has to be positive.\n",
    "* Add a withdrawal method to the SavingsAccount: this method will receive a parameter called withdrawal_amt. The method will check for two conditions:\n",
    "\n",
    "a.If the amount is zero or less, no transaction will be conducted. Your program should output a meaningful statement and explain why.   \n",
    "\n",
    "b.The bank institution has a business rule that all savings accounts must maintain a minimum balance of 20.00 dollars. As a result, if a customer’s withdrawal amount will leave his or her account to have less than 20.00 dollars in balance, your program should output a meaningful statement stating the limit that the customer can withdraw.\n",
    "Otherwise, your program will withdraw the money and update the balance.  \n",
    "\n",
    "* Add a method that updates (changes the interest rate of the account)\n",
    "* Add a method that sets the balance of your account (whatever the balance is, this method sets a new balance on your account)\n",
    "* Add a get_account_num method, where it returns the account number from a SavingsAccount object\n",
    "* Add a get_name method, where it returns the account name from a SavingsAccount object\n",
    "* Add a get_interest_rate method, where it returns the interest rate from a SavingsAccount object\n",
    "* Add a get_balance method, where it returns the balance from a SavingsAccount object\n",
    "\n",
    "\n"
   ]
  },
  {
   "cell_type": "code",
   "execution_count": 169,
   "metadata": {},
   "outputs": [],
   "source": [
    "# write your code here\n",
    "\n",
    "class SavingsAccount:\n",
    "    \n",
    "    def __init__ (self,account_number,name,interest_rate,balance):\n",
    "        self.account_number = account_number\n",
    "        self.name = name\n",
    "        self.interest_rate = interest_rate\n",
    "        self.balance = 0\n",
    "        \n",
    "    def __str__ (self):\n",
    "        print(f'Account number: {self.account_number}')\n",
    "        print(f'Name: {self.name}')\n",
    "        print(f'Interest rate: {self.interest_rate}')\n",
    "        return f'Balance: {self.balance}'\n",
    "        \n",
    "    def deposit(self,deposit_amt):\n",
    "        if deposit_amt >= 0:\n",
    "            self.balance += deposit_amt\n",
    "            return f'Deposit accepted. Your new balance is ${self.balance}'\n",
    "        else:\n",
    "            return f'Deposit rejected. Your current balance is ${self.balance}'\n",
    "        \n",
    "    def withdraw(self,withdrawal_amt):\n",
    "        if withdrawal_amt <= 0:\n",
    "            return f'Withdrawal rejected due to improper withdrawal amount'\n",
    "        elif self.balance - withdrawal_amt >= 20:\n",
    "            self.balance -= withdrawal_amt\n",
    "            return f'Withdrawal accepted. Your new balance is ${self.balance}'\n",
    "        else:\n",
    "            limit = self.balance - 20\n",
    "            return f'Withdrawal rejected due to insufficient funds. Your maximum allowable withdrawal amount is ${limit}'\n",
    "    \n",
    "    def update_interest(self,new_interest):\n",
    "        self.interest_rate = new_interest\n",
    "        return f'Update accepted. Your new interest rate is {self.interest_rate}%'\n",
    "        \n",
    "    def set_balance(self,new_balance):\n",
    "        self.balance = new_balance\n",
    "        return f'Update accepted. Your new balance is ${self.balance}'\n",
    "    \n",
    "    def get_account_number(self):\n",
    "        return self.account_number\n",
    "    \n",
    "    def get_name(self):\n",
    "        return self.name\n",
    "    \n",
    "    def get_interest_rate(self):\n",
    "        return self.interest_rate\n",
    "    \n",
    "    def get_balance(self):\n",
    "        return self.balance\n",
    "    "
   ]
  },
  {
   "cell_type": "markdown",
   "metadata": {},
   "source": [
    "Instantiate two SavingsAccount objects.  \n",
    "\n",
    "Print the basic information of these objects."
   ]
  },
  {
   "cell_type": "code",
   "execution_count": 170,
   "metadata": {},
   "outputs": [
    {
     "name": "stdout",
     "output_type": "stream",
     "text": [
      "Account number: 001\n",
      "Name: Anthony\n",
      "Interest rate: 2.5\n",
      "Balance: 0\n"
     ]
    }
   ],
   "source": [
    "# Instantiate and print SavingsAccount object number 1:\n",
    "\n",
    "acc1 = SavingsAccount('001','Anthony',2.5,0)\n",
    "print(acc1)"
   ]
  },
  {
   "cell_type": "code",
   "execution_count": 171,
   "metadata": {},
   "outputs": [
    {
     "name": "stdout",
     "output_type": "stream",
     "text": [
      "Account number: 002\n",
      "Name: Bethany\n",
      "Interest rate: 2.5\n",
      "Balance: 0\n"
     ]
    }
   ],
   "source": [
    "# Instantiate and print SavingsAccount object number 2:\n",
    "\n",
    "acc2 = SavingsAccount('002','Bethany',2.5,700)\n",
    "print(acc2)"
   ]
  },
  {
   "cell_type": "markdown",
   "metadata": {},
   "source": [
    "Make two deposits(one for each created object), change the interest rate of the first object and set it at 3%, and perform two withdrawals (one for each created object),illustrating your code."
   ]
  },
  {
   "cell_type": "code",
   "execution_count": 172,
   "metadata": {},
   "outputs": [
    {
     "data": {
      "text/plain": [
       "'Deposit accepted. Your new balance is $100'"
      ]
     },
     "execution_count": 172,
     "metadata": {},
     "output_type": "execute_result"
    }
   ],
   "source": [
    "# deposit no1\n",
    "\n",
    "acc1.deposit(100)"
   ]
  },
  {
   "cell_type": "code",
   "execution_count": 173,
   "metadata": {},
   "outputs": [
    {
     "data": {
      "text/plain": [
       "'Deposit accepted. Your new balance is $200'"
      ]
     },
     "execution_count": 173,
     "metadata": {},
     "output_type": "execute_result"
    }
   ],
   "source": [
    "# deposit no2\n",
    "\n",
    "acc2.deposit(200)"
   ]
  },
  {
   "cell_type": "code",
   "execution_count": 174,
   "metadata": {},
   "outputs": [
    {
     "data": {
      "text/plain": [
       "'Update accepted. Your new interest rate is 3%'"
      ]
     },
     "execution_count": 174,
     "metadata": {},
     "output_type": "execute_result"
    }
   ],
   "source": [
    "# change interest rate for object 1\n",
    "\n",
    "acc1.update_interest(3)"
   ]
  },
  {
   "cell_type": "code",
   "execution_count": 175,
   "metadata": {},
   "outputs": [
    {
     "data": {
      "text/plain": [
       "'Withdrawal rejected due to insufficient funds. Your maximum allowable withdrawal amount is $80'"
      ]
     },
     "execution_count": 175,
     "metadata": {},
     "output_type": "execute_result"
    }
   ],
   "source": [
    "# withdrawal no1\n",
    "\n",
    "acc1.withdraw(90)"
   ]
  },
  {
   "cell_type": "code",
   "execution_count": 176,
   "metadata": {},
   "outputs": [
    {
     "data": {
      "text/plain": [
       "'Withdrawal accepted. Your new balance is $110'"
      ]
     },
     "execution_count": 176,
     "metadata": {},
     "output_type": "execute_result"
    }
   ],
   "source": [
    "# withdrawal no2\n",
    "\n",
    "acc2.withdraw(90)"
   ]
  },
  {
   "cell_type": "markdown",
   "metadata": {},
   "source": [
    "##### EXTRA CREDIT QUESTION 10PTS\n",
    "\n",
    "* Open the file named 'car_parts.txt'. Load all of it's information and print it. It should be a file containing information about car parts.   \n",
    "\n",
    "* Process the information and keep a running total over the part prices. After writing your code the output should be the following:  \n",
    "\n",
    "After adding 4 wheels the running total is \\\\$ 2000  \n",
    "After adding 4 doors the running total is \\\\$ 2800  \n",
    "After adding 4 windows the running total is \\\\$ 3200  \n",
    "After adding 1 engine the running total is \\\\$ 5200  \n",
    "After adding 1 body the running total is \\\\$ 10200  \n",
    " "
   ]
  },
  {
   "cell_type": "code",
   "execution_count": 142,
   "metadata": {},
   "outputs": [
    {
     "name": "stdout",
     "output_type": "stream",
     "text": [
      "After adding 4 wheels the running total is $2000\n",
      "After adding 4 doors the running total is $2800\n",
      "After adding 4 windows the running total is $3200\n",
      "After adding 1 engine the running total is $5200\n",
      "After adding 1 body the running total is $10200\n"
     ]
    }
   ],
   "source": [
    "# write your code here\n",
    "\n",
    "f = open('car_parts-3.txt','r')\n",
    "lines = f.readlines()\n",
    "total = 0\n",
    "\n",
    "for line in lines[1:]:\n",
    "    line = line.strip('\\n').split(',')\n",
    "    total += int(line[2])*int(line[1])\n",
    "    print(f'After adding {line[1]} {line[0].lower()} the running total is ${total}')"
   ]
  },
  {
   "cell_type": "markdown",
   "metadata": {},
   "source": [
    "## Question 4 :   \n",
    "### 15 pts "
   ]
  },
  {
   "cell_type": "markdown",
   "metadata": {},
   "source": [
    "The file florida_voters.txt contains the numbers of republican and democratic voters in various counties in Florida. Write code that reads in this text file and print out the counties, along with the\n",
    "number of republican and democratic voters in those counties, sorted by the\n",
    "number of democratic voters. The output should look like this:  \n",
    "\n",
    "\n",
    "LAFAYETTE 1373 2672  \n",
    "GLADES 2190 3110  \n",
    "LIBERTY 720 3372    \n",
    "..."
   ]
  },
  {
   "cell_type": "code",
   "execution_count": 177,
   "metadata": {},
   "outputs": [
    {
     "name": "stdout",
     "output_type": "stream",
     "text": [
      "LAFAYETTE 1373 2672\n",
      "GLADES 2190 3110\n",
      "LIBERTY 720 3372\n",
      "UNION 2752 3579\n",
      "GILCHRIST 5789 3652\n"
     ]
    }
   ],
   "source": [
    "#write your code here\n",
    "\n",
    "f = open('florida_voters.txt','r')\n",
    "lines = f.readlines()\n",
    "\n",
    "clean_data = []\n",
    "for line in lines[1:]:\n",
    "    clean = line.split('\\t')[:3]\n",
    "    clean[1] = int(clean[1].replace(',',''))\n",
    "    clean[2] = int(clean[2].replace(',',''))\n",
    "    clean_data.append(clean)\n",
    "    \n",
    "for line in sorted(clean_data, key = lambda county: county[2])[:5]:\n",
    "    print(line[0],line[1],line[2])"
   ]
  },
  {
   "cell_type": "markdown",
   "metadata": {},
   "source": [
    "##### EXTRA CREDIT QUESTION 10PTS\n",
    "\n",
    "* Open the file named 'car_parts.txt'. Load all of it's information and print it. It should be a file containing information about car parts.   \n",
    "\n",
    "* Process the information and keep a running total over the part prices. After writing your code the output should be the following:  \n",
    "\n",
    "After adding 4 wheels the running total is \\\\$ 2000  \n",
    "After adding 4 doors the running total is \\\\$ 2800  \n",
    "After adding 4 windows the running total is \\\\$ 3200  \n",
    "After adding 1 engine the running total is \\\\$ 5200  \n",
    "After adding 1 body the running total is \\\\$ 10200  \n",
    " "
   ]
  },
  {
   "cell_type": "code",
   "execution_count": 141,
   "metadata": {},
   "outputs": [
    {
     "name": "stdout",
     "output_type": "stream",
     "text": [
      "After adding 4 wheels the running total is $2000\n",
      "After adding 4 doors the running total is $2800\n",
      "After adding 4 windows the running total is $3200\n",
      "After adding 1 engine the running total is $5200\n",
      "After adding 1 body the running total is $10200\n"
     ]
    }
   ],
   "source": [
    "# write your code here (this is the same code from before)\n",
    "\n",
    "f = open('car_parts-3.txt','r')\n",
    "lines = f.readlines()\n",
    "total = 0\n",
    "\n",
    "for line in lines[1:]:\n",
    "    line = line.strip('\\n').split(',')\n",
    "    total += int(line[2])*int(line[1])\n",
    "    print(f'After adding {line[1]} {line[0].lower()} the running total is ${total}')"
   ]
  },
  {
   "cell_type": "markdown",
   "metadata": {},
   "source": [
    "## Question 5 :   \n",
    "### 25 pts "
   ]
  },
  {
   "cell_type": "markdown",
   "metadata": {},
   "source": [
    "Load the given dataset into Python.From the given dataset print the first and last five rows."
   ]
  },
  {
   "cell_type": "code",
   "execution_count": null,
   "metadata": {},
   "outputs": [],
   "source": [
    "# done below"
   ]
  },
  {
   "cell_type": "markdown",
   "metadata": {},
   "source": [
    "The following code will replace all column values which contain ?, n.a, or NaN with the default NaN Python value for missing values."
   ]
  },
  {
   "cell_type": "code",
   "execution_count": 178,
   "metadata": {},
   "outputs": [
    {
     "data": {
      "text/html": [
       "<div>\n",
       "<style scoped>\n",
       "    .dataframe tbody tr th:only-of-type {\n",
       "        vertical-align: middle;\n",
       "    }\n",
       "\n",
       "    .dataframe tbody tr th {\n",
       "        vertical-align: top;\n",
       "    }\n",
       "\n",
       "    .dataframe thead th {\n",
       "        text-align: right;\n",
       "    }\n",
       "</style>\n",
       "<table border=\"1\" class=\"dataframe\">\n",
       "  <thead>\n",
       "    <tr style=\"text-align: right;\">\n",
       "      <th></th>\n",
       "      <th>index</th>\n",
       "      <th>company</th>\n",
       "      <th>body-style</th>\n",
       "      <th>wheel-base</th>\n",
       "      <th>length</th>\n",
       "      <th>engine-type</th>\n",
       "      <th>num-of-cylinders</th>\n",
       "      <th>horsepower</th>\n",
       "      <th>average-mileage</th>\n",
       "      <th>price</th>\n",
       "    </tr>\n",
       "  </thead>\n",
       "  <tbody>\n",
       "    <tr>\n",
       "      <th>0</th>\n",
       "      <td>0</td>\n",
       "      <td>alfa-romero</td>\n",
       "      <td>convertible</td>\n",
       "      <td>88.6</td>\n",
       "      <td>168.8</td>\n",
       "      <td>dohc</td>\n",
       "      <td>four</td>\n",
       "      <td>111</td>\n",
       "      <td>21</td>\n",
       "      <td>13495.0</td>\n",
       "    </tr>\n",
       "    <tr>\n",
       "      <th>1</th>\n",
       "      <td>1</td>\n",
       "      <td>alfa-romero</td>\n",
       "      <td>convertible</td>\n",
       "      <td>88.6</td>\n",
       "      <td>168.8</td>\n",
       "      <td>dohc</td>\n",
       "      <td>four</td>\n",
       "      <td>111</td>\n",
       "      <td>21</td>\n",
       "      <td>16500.0</td>\n",
       "    </tr>\n",
       "    <tr>\n",
       "      <th>2</th>\n",
       "      <td>2</td>\n",
       "      <td>alfa-romero</td>\n",
       "      <td>hatchback</td>\n",
       "      <td>94.5</td>\n",
       "      <td>171.2</td>\n",
       "      <td>ohcv</td>\n",
       "      <td>six</td>\n",
       "      <td>154</td>\n",
       "      <td>19</td>\n",
       "      <td>16500.0</td>\n",
       "    </tr>\n",
       "    <tr>\n",
       "      <th>3</th>\n",
       "      <td>3</td>\n",
       "      <td>audi</td>\n",
       "      <td>sedan</td>\n",
       "      <td>99.8</td>\n",
       "      <td>176.6</td>\n",
       "      <td>ohc</td>\n",
       "      <td>four</td>\n",
       "      <td>102</td>\n",
       "      <td>24</td>\n",
       "      <td>13950.0</td>\n",
       "    </tr>\n",
       "    <tr>\n",
       "      <th>4</th>\n",
       "      <td>4</td>\n",
       "      <td>audi</td>\n",
       "      <td>sedan</td>\n",
       "      <td>99.4</td>\n",
       "      <td>176.6</td>\n",
       "      <td>ohc</td>\n",
       "      <td>five</td>\n",
       "      <td>115</td>\n",
       "      <td>18</td>\n",
       "      <td>17450.0</td>\n",
       "    </tr>\n",
       "  </tbody>\n",
       "</table>\n",
       "</div>"
      ],
      "text/plain": [
       "   index      company   body-style  wheel-base  length engine-type  \\\n",
       "0      0  alfa-romero  convertible        88.6   168.8        dohc   \n",
       "1      1  alfa-romero  convertible        88.6   168.8        dohc   \n",
       "2      2  alfa-romero    hatchback        94.5   171.2        ohcv   \n",
       "3      3         audi        sedan        99.8   176.6         ohc   \n",
       "4      4         audi        sedan        99.4   176.6         ohc   \n",
       "\n",
       "  num-of-cylinders  horsepower  average-mileage    price  \n",
       "0             four         111               21  13495.0  \n",
       "1             four         111               21  16500.0  \n",
       "2              six         154               19  16500.0  \n",
       "3             four         102               24  13950.0  \n",
       "4             five         115               18  17450.0  "
      ]
     },
     "execution_count": 178,
     "metadata": {},
     "output_type": "execute_result"
    }
   ],
   "source": [
    "import pandas as pd\n",
    "df = pd.read_csv('car_data-1.csv', na_values=['?','n.a','NaN'], header = 0)\n",
    "df.head()"
   ]
  },
  {
   "cell_type": "code",
   "execution_count": 179,
   "metadata": {},
   "outputs": [
    {
     "data": {
      "text/html": [
       "<div>\n",
       "<style scoped>\n",
       "    .dataframe tbody tr th:only-of-type {\n",
       "        vertical-align: middle;\n",
       "    }\n",
       "\n",
       "    .dataframe tbody tr th {\n",
       "        vertical-align: top;\n",
       "    }\n",
       "\n",
       "    .dataframe thead th {\n",
       "        text-align: right;\n",
       "    }\n",
       "</style>\n",
       "<table border=\"1\" class=\"dataframe\">\n",
       "  <thead>\n",
       "    <tr style=\"text-align: right;\">\n",
       "      <th></th>\n",
       "      <th>index</th>\n",
       "      <th>company</th>\n",
       "      <th>body-style</th>\n",
       "      <th>wheel-base</th>\n",
       "      <th>length</th>\n",
       "      <th>engine-type</th>\n",
       "      <th>num-of-cylinders</th>\n",
       "      <th>horsepower</th>\n",
       "      <th>average-mileage</th>\n",
       "      <th>price</th>\n",
       "    </tr>\n",
       "  </thead>\n",
       "  <tbody>\n",
       "    <tr>\n",
       "      <th>56</th>\n",
       "      <td>81</td>\n",
       "      <td>volkswagen</td>\n",
       "      <td>sedan</td>\n",
       "      <td>97.3</td>\n",
       "      <td>171.7</td>\n",
       "      <td>ohc</td>\n",
       "      <td>four</td>\n",
       "      <td>85</td>\n",
       "      <td>27</td>\n",
       "      <td>7975.0</td>\n",
       "    </tr>\n",
       "    <tr>\n",
       "      <th>57</th>\n",
       "      <td>82</td>\n",
       "      <td>volkswagen</td>\n",
       "      <td>sedan</td>\n",
       "      <td>97.3</td>\n",
       "      <td>171.7</td>\n",
       "      <td>ohc</td>\n",
       "      <td>four</td>\n",
       "      <td>52</td>\n",
       "      <td>37</td>\n",
       "      <td>7995.0</td>\n",
       "    </tr>\n",
       "    <tr>\n",
       "      <th>58</th>\n",
       "      <td>86</td>\n",
       "      <td>volkswagen</td>\n",
       "      <td>sedan</td>\n",
       "      <td>97.3</td>\n",
       "      <td>171.7</td>\n",
       "      <td>ohc</td>\n",
       "      <td>four</td>\n",
       "      <td>100</td>\n",
       "      <td>26</td>\n",
       "      <td>9995.0</td>\n",
       "    </tr>\n",
       "    <tr>\n",
       "      <th>59</th>\n",
       "      <td>87</td>\n",
       "      <td>volvo</td>\n",
       "      <td>sedan</td>\n",
       "      <td>104.3</td>\n",
       "      <td>188.8</td>\n",
       "      <td>ohc</td>\n",
       "      <td>four</td>\n",
       "      <td>114</td>\n",
       "      <td>23</td>\n",
       "      <td>12940.0</td>\n",
       "    </tr>\n",
       "    <tr>\n",
       "      <th>60</th>\n",
       "      <td>88</td>\n",
       "      <td>volvo</td>\n",
       "      <td>wagon</td>\n",
       "      <td>104.3</td>\n",
       "      <td>188.8</td>\n",
       "      <td>ohc</td>\n",
       "      <td>four</td>\n",
       "      <td>114</td>\n",
       "      <td>23</td>\n",
       "      <td>13415.0</td>\n",
       "    </tr>\n",
       "  </tbody>\n",
       "</table>\n",
       "</div>"
      ],
      "text/plain": [
       "    index     company body-style  wheel-base  length engine-type  \\\n",
       "56     81  volkswagen      sedan        97.3   171.7         ohc   \n",
       "57     82  volkswagen      sedan        97.3   171.7         ohc   \n",
       "58     86  volkswagen      sedan        97.3   171.7         ohc   \n",
       "59     87       volvo      sedan       104.3   188.8         ohc   \n",
       "60     88       volvo      wagon       104.3   188.8         ohc   \n",
       "\n",
       "   num-of-cylinders  horsepower  average-mileage    price  \n",
       "56             four          85               27   7975.0  \n",
       "57             four          52               37   7995.0  \n",
       "58             four         100               26   9995.0  \n",
       "59             four         114               23  12940.0  \n",
       "60             four         114               23  13415.0  "
      ]
     },
     "execution_count": 179,
     "metadata": {},
     "output_type": "execute_result"
    }
   ],
   "source": [
    "df.tail()"
   ]
  },
  {
   "cell_type": "markdown",
   "metadata": {},
   "source": [
    "You should work with this dataframe for the rest of the questions:"
   ]
  },
  {
   "cell_type": "markdown",
   "metadata": {},
   "source": [
    "Select all rows for the columns company and price. Store the output in a dataframe called df_small and output the result."
   ]
  },
  {
   "cell_type": "code",
   "execution_count": 180,
   "metadata": {},
   "outputs": [
    {
     "data": {
      "text/html": [
       "<div>\n",
       "<style scoped>\n",
       "    .dataframe tbody tr th:only-of-type {\n",
       "        vertical-align: middle;\n",
       "    }\n",
       "\n",
       "    .dataframe tbody tr th {\n",
       "        vertical-align: top;\n",
       "    }\n",
       "\n",
       "    .dataframe thead th {\n",
       "        text-align: right;\n",
       "    }\n",
       "</style>\n",
       "<table border=\"1\" class=\"dataframe\">\n",
       "  <thead>\n",
       "    <tr style=\"text-align: right;\">\n",
       "      <th></th>\n",
       "      <th>company</th>\n",
       "      <th>price</th>\n",
       "    </tr>\n",
       "  </thead>\n",
       "  <tbody>\n",
       "    <tr>\n",
       "      <th>0</th>\n",
       "      <td>alfa-romero</td>\n",
       "      <td>13495.0</td>\n",
       "    </tr>\n",
       "    <tr>\n",
       "      <th>1</th>\n",
       "      <td>alfa-romero</td>\n",
       "      <td>16500.0</td>\n",
       "    </tr>\n",
       "    <tr>\n",
       "      <th>2</th>\n",
       "      <td>alfa-romero</td>\n",
       "      <td>16500.0</td>\n",
       "    </tr>\n",
       "    <tr>\n",
       "      <th>3</th>\n",
       "      <td>audi</td>\n",
       "      <td>13950.0</td>\n",
       "    </tr>\n",
       "    <tr>\n",
       "      <th>4</th>\n",
       "      <td>audi</td>\n",
       "      <td>17450.0</td>\n",
       "    </tr>\n",
       "    <tr>\n",
       "      <th>...</th>\n",
       "      <td>...</td>\n",
       "      <td>...</td>\n",
       "    </tr>\n",
       "    <tr>\n",
       "      <th>56</th>\n",
       "      <td>volkswagen</td>\n",
       "      <td>7975.0</td>\n",
       "    </tr>\n",
       "    <tr>\n",
       "      <th>57</th>\n",
       "      <td>volkswagen</td>\n",
       "      <td>7995.0</td>\n",
       "    </tr>\n",
       "    <tr>\n",
       "      <th>58</th>\n",
       "      <td>volkswagen</td>\n",
       "      <td>9995.0</td>\n",
       "    </tr>\n",
       "    <tr>\n",
       "      <th>59</th>\n",
       "      <td>volvo</td>\n",
       "      <td>12940.0</td>\n",
       "    </tr>\n",
       "    <tr>\n",
       "      <th>60</th>\n",
       "      <td>volvo</td>\n",
       "      <td>13415.0</td>\n",
       "    </tr>\n",
       "  </tbody>\n",
       "</table>\n",
       "<p>61 rows × 2 columns</p>\n",
       "</div>"
      ],
      "text/plain": [
       "        company    price\n",
       "0   alfa-romero  13495.0\n",
       "1   alfa-romero  16500.0\n",
       "2   alfa-romero  16500.0\n",
       "3          audi  13950.0\n",
       "4          audi  17450.0\n",
       "..          ...      ...\n",
       "56   volkswagen   7975.0\n",
       "57   volkswagen   7995.0\n",
       "58   volkswagen   9995.0\n",
       "59        volvo  12940.0\n",
       "60        volvo  13415.0\n",
       "\n",
       "[61 rows x 2 columns]"
      ]
     },
     "execution_count": 180,
     "metadata": {},
     "output_type": "execute_result"
    }
   ],
   "source": [
    "df_small = df[['company','price']]\n",
    "df_small"
   ]
  },
  {
   "cell_type": "markdown",
   "metadata": {},
   "source": [
    "Select a subset of the original dataset that contains all the information regarding the Toyota cars."
   ]
  },
  {
   "cell_type": "code",
   "execution_count": 181,
   "metadata": {
    "scrolled": true
   },
   "outputs": [
    {
     "data": {
      "text/html": [
       "<div>\n",
       "<style scoped>\n",
       "    .dataframe tbody tr th:only-of-type {\n",
       "        vertical-align: middle;\n",
       "    }\n",
       "\n",
       "    .dataframe tbody tr th {\n",
       "        vertical-align: top;\n",
       "    }\n",
       "\n",
       "    .dataframe thead th {\n",
       "        text-align: right;\n",
       "    }\n",
       "</style>\n",
       "<table border=\"1\" class=\"dataframe\">\n",
       "  <thead>\n",
       "    <tr style=\"text-align: right;\">\n",
       "      <th></th>\n",
       "      <th>index</th>\n",
       "      <th>company</th>\n",
       "      <th>body-style</th>\n",
       "      <th>wheel-base</th>\n",
       "      <th>length</th>\n",
       "      <th>engine-type</th>\n",
       "      <th>num-of-cylinders</th>\n",
       "      <th>horsepower</th>\n",
       "      <th>average-mileage</th>\n",
       "      <th>price</th>\n",
       "    </tr>\n",
       "  </thead>\n",
       "  <tbody>\n",
       "    <tr>\n",
       "      <th>48</th>\n",
       "      <td>66</td>\n",
       "      <td>toyota</td>\n",
       "      <td>hatchback</td>\n",
       "      <td>95.7</td>\n",
       "      <td>158.7</td>\n",
       "      <td>ohc</td>\n",
       "      <td>four</td>\n",
       "      <td>62</td>\n",
       "      <td>35</td>\n",
       "      <td>5348.0</td>\n",
       "    </tr>\n",
       "    <tr>\n",
       "      <th>49</th>\n",
       "      <td>67</td>\n",
       "      <td>toyota</td>\n",
       "      <td>hatchback</td>\n",
       "      <td>95.7</td>\n",
       "      <td>158.7</td>\n",
       "      <td>ohc</td>\n",
       "      <td>four</td>\n",
       "      <td>62</td>\n",
       "      <td>31</td>\n",
       "      <td>6338.0</td>\n",
       "    </tr>\n",
       "    <tr>\n",
       "      <th>50</th>\n",
       "      <td>68</td>\n",
       "      <td>toyota</td>\n",
       "      <td>hatchback</td>\n",
       "      <td>95.7</td>\n",
       "      <td>158.7</td>\n",
       "      <td>ohc</td>\n",
       "      <td>four</td>\n",
       "      <td>62</td>\n",
       "      <td>31</td>\n",
       "      <td>6488.0</td>\n",
       "    </tr>\n",
       "    <tr>\n",
       "      <th>51</th>\n",
       "      <td>69</td>\n",
       "      <td>toyota</td>\n",
       "      <td>wagon</td>\n",
       "      <td>95.7</td>\n",
       "      <td>169.7</td>\n",
       "      <td>ohc</td>\n",
       "      <td>four</td>\n",
       "      <td>62</td>\n",
       "      <td>31</td>\n",
       "      <td>6918.0</td>\n",
       "    </tr>\n",
       "    <tr>\n",
       "      <th>52</th>\n",
       "      <td>70</td>\n",
       "      <td>toyota</td>\n",
       "      <td>wagon</td>\n",
       "      <td>95.7</td>\n",
       "      <td>169.7</td>\n",
       "      <td>ohc</td>\n",
       "      <td>four</td>\n",
       "      <td>62</td>\n",
       "      <td>27</td>\n",
       "      <td>7898.0</td>\n",
       "    </tr>\n",
       "    <tr>\n",
       "      <th>53</th>\n",
       "      <td>71</td>\n",
       "      <td>toyota</td>\n",
       "      <td>wagon</td>\n",
       "      <td>95.7</td>\n",
       "      <td>169.7</td>\n",
       "      <td>ohc</td>\n",
       "      <td>four</td>\n",
       "      <td>62</td>\n",
       "      <td>27</td>\n",
       "      <td>8778.0</td>\n",
       "    </tr>\n",
       "    <tr>\n",
       "      <th>54</th>\n",
       "      <td>79</td>\n",
       "      <td>toyota</td>\n",
       "      <td>wagon</td>\n",
       "      <td>104.5</td>\n",
       "      <td>187.8</td>\n",
       "      <td>dohc</td>\n",
       "      <td>six</td>\n",
       "      <td>156</td>\n",
       "      <td>19</td>\n",
       "      <td>15750.0</td>\n",
       "    </tr>\n",
       "  </tbody>\n",
       "</table>\n",
       "</div>"
      ],
      "text/plain": [
       "    index company body-style  wheel-base  length engine-type num-of-cylinders  \\\n",
       "48     66  toyota  hatchback        95.7   158.7         ohc             four   \n",
       "49     67  toyota  hatchback        95.7   158.7         ohc             four   \n",
       "50     68  toyota  hatchback        95.7   158.7         ohc             four   \n",
       "51     69  toyota      wagon        95.7   169.7         ohc             four   \n",
       "52     70  toyota      wagon        95.7   169.7         ohc             four   \n",
       "53     71  toyota      wagon        95.7   169.7         ohc             four   \n",
       "54     79  toyota      wagon       104.5   187.8        dohc              six   \n",
       "\n",
       "    horsepower  average-mileage    price  \n",
       "48          62               35   5348.0  \n",
       "49          62               31   6338.0  \n",
       "50          62               31   6488.0  \n",
       "51          62               31   6918.0  \n",
       "52          62               27   7898.0  \n",
       "53          62               27   8778.0  \n",
       "54         156               19  15750.0  "
      ]
     },
     "execution_count": 181,
     "metadata": {},
     "output_type": "execute_result"
    }
   ],
   "source": [
    "df[df['company'] == \"toyota\"]"
   ]
  },
  {
   "cell_type": "markdown",
   "metadata": {},
   "source": [
    "Count total cars per company"
   ]
  },
  {
   "cell_type": "code",
   "execution_count": 182,
   "metadata": {
    "scrolled": true
   },
   "outputs": [
    {
     "data": {
      "text/plain": [
       "toyota           7\n",
       "bmw              6\n",
       "mazda            5\n",
       "nissan           5\n",
       "audi             4\n",
       "mercedes-benz    4\n",
       "mitsubishi       4\n",
       "volkswagen       4\n",
       "alfa-romero      3\n",
       "chevrolet        3\n",
       "honda            3\n",
       "isuzu            3\n",
       "jaguar           3\n",
       "porsche          3\n",
       "dodge            2\n",
       "volvo            2\n",
       "Name: company, dtype: int64"
      ]
     },
     "execution_count": 182,
     "metadata": {},
     "output_type": "execute_result"
    }
   ],
   "source": [
    "df['company'].value_counts()"
   ]
  },
  {
   "cell_type": "markdown",
   "metadata": {},
   "source": [
    "Find all the cars that have less or equal than 20 as average mileage and are of horsepower greater than 200."
   ]
  },
  {
   "cell_type": "code",
   "execution_count": 183,
   "metadata": {
    "scrolled": true
   },
   "outputs": [
    {
     "data": {
      "text/html": [
       "<div>\n",
       "<style scoped>\n",
       "    .dataframe tbody tr th:only-of-type {\n",
       "        vertical-align: middle;\n",
       "    }\n",
       "\n",
       "    .dataframe tbody tr th {\n",
       "        vertical-align: top;\n",
       "    }\n",
       "\n",
       "    .dataframe thead th {\n",
       "        text-align: right;\n",
       "    }\n",
       "</style>\n",
       "<table border=\"1\" class=\"dataframe\">\n",
       "  <thead>\n",
       "    <tr style=\"text-align: right;\">\n",
       "      <th></th>\n",
       "      <th>index</th>\n",
       "      <th>company</th>\n",
       "      <th>body-style</th>\n",
       "      <th>wheel-base</th>\n",
       "      <th>length</th>\n",
       "      <th>engine-type</th>\n",
       "      <th>num-of-cylinders</th>\n",
       "      <th>horsepower</th>\n",
       "      <th>average-mileage</th>\n",
       "      <th>price</th>\n",
       "    </tr>\n",
       "  </thead>\n",
       "  <tbody>\n",
       "    <tr>\n",
       "      <th>26</th>\n",
       "      <td>35</td>\n",
       "      <td>jaguar</td>\n",
       "      <td>sedan</td>\n",
       "      <td>102.0</td>\n",
       "      <td>191.7</td>\n",
       "      <td>ohcv</td>\n",
       "      <td>twelve</td>\n",
       "      <td>262</td>\n",
       "      <td>13</td>\n",
       "      <td>36000.0</td>\n",
       "    </tr>\n",
       "    <tr>\n",
       "      <th>45</th>\n",
       "      <td>61</td>\n",
       "      <td>porsche</td>\n",
       "      <td>hardtop</td>\n",
       "      <td>89.5</td>\n",
       "      <td>168.9</td>\n",
       "      <td>ohcf</td>\n",
       "      <td>six</td>\n",
       "      <td>207</td>\n",
       "      <td>17</td>\n",
       "      <td>34028.0</td>\n",
       "    </tr>\n",
       "    <tr>\n",
       "      <th>46</th>\n",
       "      <td>62</td>\n",
       "      <td>porsche</td>\n",
       "      <td>convertible</td>\n",
       "      <td>89.5</td>\n",
       "      <td>168.9</td>\n",
       "      <td>ohcf</td>\n",
       "      <td>six</td>\n",
       "      <td>207</td>\n",
       "      <td>17</td>\n",
       "      <td>37028.0</td>\n",
       "    </tr>\n",
       "    <tr>\n",
       "      <th>47</th>\n",
       "      <td>63</td>\n",
       "      <td>porsche</td>\n",
       "      <td>hatchback</td>\n",
       "      <td>98.4</td>\n",
       "      <td>175.7</td>\n",
       "      <td>dohcv</td>\n",
       "      <td>eight</td>\n",
       "      <td>288</td>\n",
       "      <td>17</td>\n",
       "      <td>NaN</td>\n",
       "    </tr>\n",
       "  </tbody>\n",
       "</table>\n",
       "</div>"
      ],
      "text/plain": [
       "    index  company   body-style  wheel-base  length engine-type  \\\n",
       "26     35   jaguar        sedan       102.0   191.7        ohcv   \n",
       "45     61  porsche      hardtop        89.5   168.9        ohcf   \n",
       "46     62  porsche  convertible        89.5   168.9        ohcf   \n",
       "47     63  porsche    hatchback        98.4   175.7       dohcv   \n",
       "\n",
       "   num-of-cylinders  horsepower  average-mileage    price  \n",
       "26           twelve         262               13  36000.0  \n",
       "45              six         207               17  34028.0  \n",
       "46              six         207               17  37028.0  \n",
       "47            eight         288               17      NaN  "
      ]
     },
     "execution_count": 183,
     "metadata": {},
     "output_type": "execute_result"
    }
   ],
   "source": [
    "df[(df['average-mileage'] <= 20) & (df['horsepower'] > 200)]"
   ]
  }
 ],
 "metadata": {
  "kernelspec": {
   "display_name": "Python 3 (ipykernel)",
   "language": "python",
   "name": "python3"
  },
  "language_info": {
   "codemirror_mode": {
    "name": "ipython",
    "version": 3
   },
   "file_extension": ".py",
   "mimetype": "text/x-python",
   "name": "python",
   "nbconvert_exporter": "python",
   "pygments_lexer": "ipython3",
   "version": "3.9.13"
  }
 },
 "nbformat": 4,
 "nbformat_minor": 4
}
